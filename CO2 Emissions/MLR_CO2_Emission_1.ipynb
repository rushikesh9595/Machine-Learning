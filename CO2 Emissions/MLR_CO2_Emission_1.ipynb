{
 "cells": [
  {
   "cell_type": "code",
   "execution_count": 64,
   "id": "54f0b34b",
   "metadata": {},
   "outputs": [],
   "source": [
    "import pandas as pd\n",
    "import numpy as np\n",
    "import seaborn as sns\n",
    "import matplotlib as plt\n",
    "import plotly.express as px\n",
    "from math import sqrt\n",
    "from sklearn.model_selection import train_test_split\n",
    "from sklearn.linear_model import LinearRegression\n",
    "from sklearn.preprocessing import StandardScaler\n",
    "from sklearn.metrics import r2_score, mean_absolute_error, mean_squared_error"
   ]
  },
  {
   "cell_type": "code",
   "execution_count": 2,
   "id": "e42935df",
   "metadata": {},
   "outputs": [],
   "source": [
    "def read_data():\n",
    "    data = pd.read_csv('C:/Users/Rushikesh/Desktop/Machine Learning/New Projects/CO2/CO2_Emissions.csv')\n",
    "    return data"
   ]
  },
  {
   "cell_type": "code",
   "execution_count": 3,
   "id": "7d2e0f3b",
   "metadata": {},
   "outputs": [
    {
     "data": {
      "text/html": [
       "<div>\n",
       "<style scoped>\n",
       "    .dataframe tbody tr th:only-of-type {\n",
       "        vertical-align: middle;\n",
       "    }\n",
       "\n",
       "    .dataframe tbody tr th {\n",
       "        vertical-align: top;\n",
       "    }\n",
       "\n",
       "    .dataframe thead th {\n",
       "        text-align: right;\n",
       "    }\n",
       "</style>\n",
       "<table border=\"1\" class=\"dataframe\">\n",
       "  <thead>\n",
       "    <tr style=\"text-align: right;\">\n",
       "      <th></th>\n",
       "      <th>Make</th>\n",
       "      <th>Model</th>\n",
       "      <th>Vehicle Class</th>\n",
       "      <th>Engine Size(L)</th>\n",
       "      <th>Cylinders</th>\n",
       "      <th>Transmission</th>\n",
       "      <th>Fuel Type</th>\n",
       "      <th>Fuel Consumption City (L/100 km)</th>\n",
       "      <th>Fuel Consumption Hwy (L/100 km)</th>\n",
       "      <th>Fuel Consumption Comb (L/100 km)</th>\n",
       "      <th>Fuel Consumption Comb (mpg)</th>\n",
       "      <th>CO2 Emissions(g/km)</th>\n",
       "    </tr>\n",
       "  </thead>\n",
       "  <tbody>\n",
       "    <tr>\n",
       "      <th>0</th>\n",
       "      <td>ACURA</td>\n",
       "      <td>ILX</td>\n",
       "      <td>COMPACT</td>\n",
       "      <td>2.0</td>\n",
       "      <td>4</td>\n",
       "      <td>AS5</td>\n",
       "      <td>Z</td>\n",
       "      <td>9.9</td>\n",
       "      <td>6.7</td>\n",
       "      <td>8.5</td>\n",
       "      <td>33</td>\n",
       "      <td>196</td>\n",
       "    </tr>\n",
       "    <tr>\n",
       "      <th>1</th>\n",
       "      <td>ACURA</td>\n",
       "      <td>ILX</td>\n",
       "      <td>COMPACT</td>\n",
       "      <td>2.4</td>\n",
       "      <td>4</td>\n",
       "      <td>M6</td>\n",
       "      <td>Z</td>\n",
       "      <td>11.2</td>\n",
       "      <td>7.7</td>\n",
       "      <td>9.6</td>\n",
       "      <td>29</td>\n",
       "      <td>221</td>\n",
       "    </tr>\n",
       "    <tr>\n",
       "      <th>2</th>\n",
       "      <td>ACURA</td>\n",
       "      <td>ILX HYBRID</td>\n",
       "      <td>COMPACT</td>\n",
       "      <td>1.5</td>\n",
       "      <td>4</td>\n",
       "      <td>AV7</td>\n",
       "      <td>Z</td>\n",
       "      <td>6.0</td>\n",
       "      <td>5.8</td>\n",
       "      <td>5.9</td>\n",
       "      <td>48</td>\n",
       "      <td>136</td>\n",
       "    </tr>\n",
       "    <tr>\n",
       "      <th>3</th>\n",
       "      <td>ACURA</td>\n",
       "      <td>MDX 4WD</td>\n",
       "      <td>SUV - SMALL</td>\n",
       "      <td>3.5</td>\n",
       "      <td>6</td>\n",
       "      <td>AS6</td>\n",
       "      <td>Z</td>\n",
       "      <td>12.7</td>\n",
       "      <td>9.1</td>\n",
       "      <td>11.1</td>\n",
       "      <td>25</td>\n",
       "      <td>255</td>\n",
       "    </tr>\n",
       "    <tr>\n",
       "      <th>4</th>\n",
       "      <td>ACURA</td>\n",
       "      <td>RDX AWD</td>\n",
       "      <td>SUV - SMALL</td>\n",
       "      <td>3.5</td>\n",
       "      <td>6</td>\n",
       "      <td>AS6</td>\n",
       "      <td>Z</td>\n",
       "      <td>12.1</td>\n",
       "      <td>8.7</td>\n",
       "      <td>10.6</td>\n",
       "      <td>27</td>\n",
       "      <td>244</td>\n",
       "    </tr>\n",
       "  </tbody>\n",
       "</table>\n",
       "</div>"
      ],
      "text/plain": [
       "    Make       Model Vehicle Class  Engine Size(L)  Cylinders Transmission  \\\n",
       "0  ACURA         ILX       COMPACT             2.0          4          AS5   \n",
       "1  ACURA         ILX       COMPACT             2.4          4           M6   \n",
       "2  ACURA  ILX HYBRID       COMPACT             1.5          4          AV7   \n",
       "3  ACURA     MDX 4WD   SUV - SMALL             3.5          6          AS6   \n",
       "4  ACURA     RDX AWD   SUV - SMALL             3.5          6          AS6   \n",
       "\n",
       "  Fuel Type  Fuel Consumption City (L/100 km)  \\\n",
       "0         Z                               9.9   \n",
       "1         Z                              11.2   \n",
       "2         Z                               6.0   \n",
       "3         Z                              12.7   \n",
       "4         Z                              12.1   \n",
       "\n",
       "   Fuel Consumption Hwy (L/100 km)  Fuel Consumption Comb (L/100 km)  \\\n",
       "0                              6.7                               8.5   \n",
       "1                              7.7                               9.6   \n",
       "2                              5.8                               5.9   \n",
       "3                              9.1                              11.1   \n",
       "4                              8.7                              10.6   \n",
       "\n",
       "   Fuel Consumption Comb (mpg)  CO2 Emissions(g/km)  \n",
       "0                           33                  196  \n",
       "1                           29                  221  \n",
       "2                           48                  136  \n",
       "3                           25                  255  \n",
       "4                           27                  244  "
      ]
     },
     "execution_count": 3,
     "metadata": {},
     "output_type": "execute_result"
    }
   ],
   "source": [
    "data = read_data()\n",
    "data.head()"
   ]
  },
  {
   "cell_type": "code",
   "execution_count": 4,
   "id": "7a81c90a",
   "metadata": {},
   "outputs": [
    {
     "data": {
      "text/html": [
       "<div>\n",
       "<style scoped>\n",
       "    .dataframe tbody tr th:only-of-type {\n",
       "        vertical-align: middle;\n",
       "    }\n",
       "\n",
       "    .dataframe tbody tr th {\n",
       "        vertical-align: top;\n",
       "    }\n",
       "\n",
       "    .dataframe thead th {\n",
       "        text-align: right;\n",
       "    }\n",
       "</style>\n",
       "<table border=\"1\" class=\"dataframe\">\n",
       "  <thead>\n",
       "    <tr style=\"text-align: right;\">\n",
       "      <th></th>\n",
       "      <th>Make</th>\n",
       "      <th>Model</th>\n",
       "      <th>Vehicle Class</th>\n",
       "      <th>Engine Size(L)</th>\n",
       "      <th>Cylinders</th>\n",
       "      <th>Transmission</th>\n",
       "      <th>Fuel Type</th>\n",
       "      <th>Fuel Consumption City (L/100 km)</th>\n",
       "      <th>Fuel Consumption Hwy (L/100 km)</th>\n",
       "      <th>Fuel Consumption Comb (L/100 km)</th>\n",
       "      <th>Fuel Consumption Comb (mpg)</th>\n",
       "      <th>CO2 Emissions(g/km)</th>\n",
       "    </tr>\n",
       "  </thead>\n",
       "  <tbody>\n",
       "    <tr>\n",
       "      <th>0</th>\n",
       "      <td>ACURA</td>\n",
       "      <td>ILX</td>\n",
       "      <td>COMPACT</td>\n",
       "      <td>2.0</td>\n",
       "      <td>4</td>\n",
       "      <td>AS5</td>\n",
       "      <td>Z</td>\n",
       "      <td>9.9</td>\n",
       "      <td>6.7</td>\n",
       "      <td>8.5</td>\n",
       "      <td>33</td>\n",
       "      <td>196</td>\n",
       "    </tr>\n",
       "    <tr>\n",
       "      <th>1</th>\n",
       "      <td>ACURA</td>\n",
       "      <td>ILX</td>\n",
       "      <td>COMPACT</td>\n",
       "      <td>2.4</td>\n",
       "      <td>4</td>\n",
       "      <td>M6</td>\n",
       "      <td>Z</td>\n",
       "      <td>11.2</td>\n",
       "      <td>7.7</td>\n",
       "      <td>9.6</td>\n",
       "      <td>29</td>\n",
       "      <td>221</td>\n",
       "    </tr>\n",
       "    <tr>\n",
       "      <th>2</th>\n",
       "      <td>ACURA</td>\n",
       "      <td>ILX HYBRID</td>\n",
       "      <td>COMPACT</td>\n",
       "      <td>1.5</td>\n",
       "      <td>4</td>\n",
       "      <td>AV7</td>\n",
       "      <td>Z</td>\n",
       "      <td>6.0</td>\n",
       "      <td>5.8</td>\n",
       "      <td>5.9</td>\n",
       "      <td>48</td>\n",
       "      <td>136</td>\n",
       "    </tr>\n",
       "    <tr>\n",
       "      <th>3</th>\n",
       "      <td>ACURA</td>\n",
       "      <td>MDX 4WD</td>\n",
       "      <td>SUV - SMALL</td>\n",
       "      <td>3.5</td>\n",
       "      <td>6</td>\n",
       "      <td>AS6</td>\n",
       "      <td>Z</td>\n",
       "      <td>12.7</td>\n",
       "      <td>9.1</td>\n",
       "      <td>11.1</td>\n",
       "      <td>25</td>\n",
       "      <td>255</td>\n",
       "    </tr>\n",
       "    <tr>\n",
       "      <th>4</th>\n",
       "      <td>ACURA</td>\n",
       "      <td>RDX AWD</td>\n",
       "      <td>SUV - SMALL</td>\n",
       "      <td>3.5</td>\n",
       "      <td>6</td>\n",
       "      <td>AS6</td>\n",
       "      <td>Z</td>\n",
       "      <td>12.1</td>\n",
       "      <td>8.7</td>\n",
       "      <td>10.6</td>\n",
       "      <td>27</td>\n",
       "      <td>244</td>\n",
       "    </tr>\n",
       "  </tbody>\n",
       "</table>\n",
       "</div>"
      ],
      "text/plain": [
       "    Make       Model Vehicle Class  Engine Size(L)  Cylinders Transmission  \\\n",
       "0  ACURA         ILX       COMPACT             2.0          4          AS5   \n",
       "1  ACURA         ILX       COMPACT             2.4          4           M6   \n",
       "2  ACURA  ILX HYBRID       COMPACT             1.5          4          AV7   \n",
       "3  ACURA     MDX 4WD   SUV - SMALL             3.5          6          AS6   \n",
       "4  ACURA     RDX AWD   SUV - SMALL             3.5          6          AS6   \n",
       "\n",
       "  Fuel Type  Fuel Consumption City (L/100 km)  \\\n",
       "0         Z                               9.9   \n",
       "1         Z                              11.2   \n",
       "2         Z                               6.0   \n",
       "3         Z                              12.7   \n",
       "4         Z                              12.1   \n",
       "\n",
       "   Fuel Consumption Hwy (L/100 km)  Fuel Consumption Comb (L/100 km)  \\\n",
       "0                              6.7                               8.5   \n",
       "1                              7.7                               9.6   \n",
       "2                              5.8                               5.9   \n",
       "3                              9.1                              11.1   \n",
       "4                              8.7                              10.6   \n",
       "\n",
       "   Fuel Consumption Comb (mpg)  CO2 Emissions(g/km)  \n",
       "0                           33                  196  \n",
       "1                           29                  221  \n",
       "2                           48                  136  \n",
       "3                           25                  255  \n",
       "4                           27                  244  "
      ]
     },
     "execution_count": 4,
     "metadata": {},
     "output_type": "execute_result"
    }
   ],
   "source": [
    "df = data.copy()\n",
    "df.head()"
   ]
  },
  {
   "cell_type": "code",
   "execution_count": 5,
   "id": "43e1bd7f",
   "metadata": {},
   "outputs": [],
   "source": [
    "df.drop(['Make', 'Model', 'Vehicle Class', 'Transmission', 'Fuel Type'], axis = 1, inplace = True)"
   ]
  },
  {
   "cell_type": "code",
   "execution_count": 6,
   "id": "d30fd51c",
   "metadata": {},
   "outputs": [
    {
     "data": {
      "text/plain": [
       "Index(['Engine Size(L)', 'Cylinders', 'Fuel Consumption City (L/100 km)',\n",
       "       'Fuel Consumption Hwy (L/100 km)', 'Fuel Consumption Comb (L/100 km)',\n",
       "       'Fuel Consumption Comb (mpg)', 'CO2 Emissions(g/km)'],\n",
       "      dtype='object')"
      ]
     },
     "execution_count": 6,
     "metadata": {},
     "output_type": "execute_result"
    }
   ],
   "source": [
    "df.columns"
   ]
  },
  {
   "cell_type": "code",
   "execution_count": 7,
   "id": "8ba6123d",
   "metadata": {},
   "outputs": [],
   "source": [
    "col_rename = df.rename(columns = {'Engine Size(L)' : 'Engine_size', 'Fuel Consumption City (L/100 km)' : 'Fuel_cons_city', \n",
    "                        'Fuel Consumption Hwy (L/100 km)' : 'Fuel_cons_Hwy',\n",
    "                       'Fuel Consumption Comb (L/100 km)' : 'Fuel_cons_comb', \n",
    "                       'CO2 Emissions(g/km)' : 'CO2_emitted'}, inplace = True)"
   ]
  },
  {
   "cell_type": "code",
   "execution_count": 8,
   "id": "a55ac4a9",
   "metadata": {},
   "outputs": [
    {
     "data": {
      "text/html": [
       "<div>\n",
       "<style scoped>\n",
       "    .dataframe tbody tr th:only-of-type {\n",
       "        vertical-align: middle;\n",
       "    }\n",
       "\n",
       "    .dataframe tbody tr th {\n",
       "        vertical-align: top;\n",
       "    }\n",
       "\n",
       "    .dataframe thead th {\n",
       "        text-align: right;\n",
       "    }\n",
       "</style>\n",
       "<table border=\"1\" class=\"dataframe\">\n",
       "  <thead>\n",
       "    <tr style=\"text-align: right;\">\n",
       "      <th></th>\n",
       "      <th>Engine_size</th>\n",
       "      <th>Cylinders</th>\n",
       "      <th>Fuel_cons_city</th>\n",
       "      <th>Fuel_cons_Hwy</th>\n",
       "      <th>Fuel_cons_comb</th>\n",
       "      <th>Fuel Consumption Comb (mpg)</th>\n",
       "      <th>CO2_emitted</th>\n",
       "    </tr>\n",
       "  </thead>\n",
       "  <tbody>\n",
       "    <tr>\n",
       "      <th>0</th>\n",
       "      <td>2.0</td>\n",
       "      <td>4</td>\n",
       "      <td>9.9</td>\n",
       "      <td>6.7</td>\n",
       "      <td>8.5</td>\n",
       "      <td>33</td>\n",
       "      <td>196</td>\n",
       "    </tr>\n",
       "    <tr>\n",
       "      <th>1</th>\n",
       "      <td>2.4</td>\n",
       "      <td>4</td>\n",
       "      <td>11.2</td>\n",
       "      <td>7.7</td>\n",
       "      <td>9.6</td>\n",
       "      <td>29</td>\n",
       "      <td>221</td>\n",
       "    </tr>\n",
       "    <tr>\n",
       "      <th>2</th>\n",
       "      <td>1.5</td>\n",
       "      <td>4</td>\n",
       "      <td>6.0</td>\n",
       "      <td>5.8</td>\n",
       "      <td>5.9</td>\n",
       "      <td>48</td>\n",
       "      <td>136</td>\n",
       "    </tr>\n",
       "    <tr>\n",
       "      <th>3</th>\n",
       "      <td>3.5</td>\n",
       "      <td>6</td>\n",
       "      <td>12.7</td>\n",
       "      <td>9.1</td>\n",
       "      <td>11.1</td>\n",
       "      <td>25</td>\n",
       "      <td>255</td>\n",
       "    </tr>\n",
       "    <tr>\n",
       "      <th>4</th>\n",
       "      <td>3.5</td>\n",
       "      <td>6</td>\n",
       "      <td>12.1</td>\n",
       "      <td>8.7</td>\n",
       "      <td>10.6</td>\n",
       "      <td>27</td>\n",
       "      <td>244</td>\n",
       "    </tr>\n",
       "  </tbody>\n",
       "</table>\n",
       "</div>"
      ],
      "text/plain": [
       "   Engine_size  Cylinders  Fuel_cons_city  Fuel_cons_Hwy  Fuel_cons_comb  \\\n",
       "0          2.0          4             9.9            6.7             8.5   \n",
       "1          2.4          4            11.2            7.7             9.6   \n",
       "2          1.5          4             6.0            5.8             5.9   \n",
       "3          3.5          6            12.7            9.1            11.1   \n",
       "4          3.5          6            12.1            8.7            10.6   \n",
       "\n",
       "   Fuel Consumption Comb (mpg)  CO2_emitted  \n",
       "0                           33          196  \n",
       "1                           29          221  \n",
       "2                           48          136  \n",
       "3                           25          255  \n",
       "4                           27          244  "
      ]
     },
     "execution_count": 8,
     "metadata": {},
     "output_type": "execute_result"
    }
   ],
   "source": [
    "df.head()"
   ]
  },
  {
   "cell_type": "markdown",
   "id": "e839682f",
   "metadata": {},
   "source": [
    "# EDA"
   ]
  },
  {
   "cell_type": "code",
   "execution_count": 9,
   "id": "92c91e97",
   "metadata": {},
   "outputs": [
    {
     "data": {
      "text/plain": [
       "(7385, 7)"
      ]
     },
     "execution_count": 9,
     "metadata": {},
     "output_type": "execute_result"
    }
   ],
   "source": [
    "df.shape"
   ]
  },
  {
   "cell_type": "code",
   "execution_count": 18,
   "id": "294e7958",
   "metadata": {},
   "outputs": [
    {
     "data": {
      "text/html": [
       "<div>\n",
       "<style scoped>\n",
       "    .dataframe tbody tr th:only-of-type {\n",
       "        vertical-align: middle;\n",
       "    }\n",
       "\n",
       "    .dataframe tbody tr th {\n",
       "        vertical-align: top;\n",
       "    }\n",
       "\n",
       "    .dataframe thead th {\n",
       "        text-align: right;\n",
       "    }\n",
       "</style>\n",
       "<table border=\"1\" class=\"dataframe\">\n",
       "  <thead>\n",
       "    <tr style=\"text-align: right;\">\n",
       "      <th></th>\n",
       "      <th>Engine_size</th>\n",
       "      <th>Cylinders</th>\n",
       "      <th>Fuel_cons_city</th>\n",
       "      <th>Fuel_cons_Hwy</th>\n",
       "      <th>Fuel_cons_comb</th>\n",
       "      <th>Fuel Consumption Comb (mpg)</th>\n",
       "      <th>CO2_emitted</th>\n",
       "    </tr>\n",
       "  </thead>\n",
       "  <tbody>\n",
       "    <tr>\n",
       "      <th>count</th>\n",
       "      <td>4360.000000</td>\n",
       "      <td>4360.000000</td>\n",
       "      <td>4360.000000</td>\n",
       "      <td>4360.000000</td>\n",
       "      <td>4360.000000</td>\n",
       "      <td>4360.000000</td>\n",
       "      <td>4360.000000</td>\n",
       "    </tr>\n",
       "    <tr>\n",
       "      <th>mean</th>\n",
       "      <td>3.111124</td>\n",
       "      <td>5.544954</td>\n",
       "      <td>12.464679</td>\n",
       "      <td>9.018073</td>\n",
       "      <td>10.913188</td>\n",
       "      <td>27.703211</td>\n",
       "      <td>248.982798</td>\n",
       "    </tr>\n",
       "    <tr>\n",
       "      <th>std</th>\n",
       "      <td>1.330996</td>\n",
       "      <td>1.814979</td>\n",
       "      <td>3.516068</td>\n",
       "      <td>2.265768</td>\n",
       "      <td>2.918367</td>\n",
       "      <td>7.415069</td>\n",
       "      <td>59.555114</td>\n",
       "    </tr>\n",
       "    <tr>\n",
       "      <th>min</th>\n",
       "      <td>0.900000</td>\n",
       "      <td>3.000000</td>\n",
       "      <td>4.200000</td>\n",
       "      <td>4.000000</td>\n",
       "      <td>4.100000</td>\n",
       "      <td>11.000000</td>\n",
       "      <td>96.000000</td>\n",
       "    </tr>\n",
       "    <tr>\n",
       "      <th>25%</th>\n",
       "      <td>2.000000</td>\n",
       "      <td>4.000000</td>\n",
       "      <td>9.900000</td>\n",
       "      <td>7.400000</td>\n",
       "      <td>8.800000</td>\n",
       "      <td>23.000000</td>\n",
       "      <td>205.000000</td>\n",
       "    </tr>\n",
       "    <tr>\n",
       "      <th>50%</th>\n",
       "      <td>3.000000</td>\n",
       "      <td>6.000000</td>\n",
       "      <td>12.000000</td>\n",
       "      <td>8.700000</td>\n",
       "      <td>10.500000</td>\n",
       "      <td>27.000000</td>\n",
       "      <td>244.000000</td>\n",
       "    </tr>\n",
       "    <tr>\n",
       "      <th>75%</th>\n",
       "      <td>3.600000</td>\n",
       "      <td>6.000000</td>\n",
       "      <td>14.400000</td>\n",
       "      <td>10.200000</td>\n",
       "      <td>12.500000</td>\n",
       "      <td>32.000000</td>\n",
       "      <td>285.000000</td>\n",
       "    </tr>\n",
       "    <tr>\n",
       "      <th>max</th>\n",
       "      <td>8.400000</td>\n",
       "      <td>16.000000</td>\n",
       "      <td>30.600000</td>\n",
       "      <td>20.600000</td>\n",
       "      <td>26.100000</td>\n",
       "      <td>69.000000</td>\n",
       "      <td>522.000000</td>\n",
       "    </tr>\n",
       "  </tbody>\n",
       "</table>\n",
       "</div>"
      ],
      "text/plain": [
       "       Engine_size    Cylinders  Fuel_cons_city  Fuel_cons_Hwy  \\\n",
       "count  4360.000000  4360.000000     4360.000000    4360.000000   \n",
       "mean      3.111124     5.544954       12.464679       9.018073   \n",
       "std       1.330996     1.814979        3.516068       2.265768   \n",
       "min       0.900000     3.000000        4.200000       4.000000   \n",
       "25%       2.000000     4.000000        9.900000       7.400000   \n",
       "50%       3.000000     6.000000       12.000000       8.700000   \n",
       "75%       3.600000     6.000000       14.400000      10.200000   \n",
       "max       8.400000    16.000000       30.600000      20.600000   \n",
       "\n",
       "       Fuel_cons_comb  Fuel Consumption Comb (mpg)  CO2_emitted  \n",
       "count     4360.000000                  4360.000000  4360.000000  \n",
       "mean        10.913188                    27.703211   248.982798  \n",
       "std          2.918367                     7.415069    59.555114  \n",
       "min          4.100000                    11.000000    96.000000  \n",
       "25%          8.800000                    23.000000   205.000000  \n",
       "50%         10.500000                    27.000000   244.000000  \n",
       "75%         12.500000                    32.000000   285.000000  \n",
       "max         26.100000                    69.000000   522.000000  "
      ]
     },
     "execution_count": 18,
     "metadata": {},
     "output_type": "execute_result"
    }
   ],
   "source": [
    "df.describe()"
   ]
  },
  {
   "cell_type": "code",
   "execution_count": 11,
   "id": "a36b66b4",
   "metadata": {},
   "outputs": [
    {
     "data": {
      "text/plain": [
       "Engine_size                    0\n",
       "Cylinders                      0\n",
       "Fuel_cons_city                 0\n",
       "Fuel_cons_Hwy                  0\n",
       "Fuel_cons_comb                 0\n",
       "Fuel Consumption Comb (mpg)    0\n",
       "CO2_emitted                    0\n",
       "dtype: int64"
      ]
     },
     "execution_count": 11,
     "metadata": {},
     "output_type": "execute_result"
    }
   ],
   "source": [
    "df.isnull().sum()"
   ]
  },
  {
   "cell_type": "code",
   "execution_count": 12,
   "id": "e8969295",
   "metadata": {},
   "outputs": [
    {
     "data": {
      "text/plain": [
       "3025"
      ]
     },
     "execution_count": 12,
     "metadata": {},
     "output_type": "execute_result"
    }
   ],
   "source": [
    "df.duplicated().sum()"
   ]
  },
  {
   "cell_type": "code",
   "execution_count": 16,
   "id": "197663be",
   "metadata": {},
   "outputs": [],
   "source": [
    "df.drop_duplicates(inplace=True)"
   ]
  },
  {
   "cell_type": "code",
   "execution_count": 17,
   "id": "6ba31335",
   "metadata": {},
   "outputs": [
    {
     "data": {
      "text/plain": [
       "(4360, 7)"
      ]
     },
     "execution_count": 17,
     "metadata": {},
     "output_type": "execute_result"
    }
   ],
   "source": [
    "df.shape"
   ]
  },
  {
   "cell_type": "code",
   "execution_count": 19,
   "id": "86cd684a",
   "metadata": {},
   "outputs": [
    {
     "data": {
      "text/html": [
       "<div>\n",
       "<style scoped>\n",
       "    .dataframe tbody tr th:only-of-type {\n",
       "        vertical-align: middle;\n",
       "    }\n",
       "\n",
       "    .dataframe tbody tr th {\n",
       "        vertical-align: top;\n",
       "    }\n",
       "\n",
       "    .dataframe thead th {\n",
       "        text-align: right;\n",
       "    }\n",
       "</style>\n",
       "<table border=\"1\" class=\"dataframe\">\n",
       "  <thead>\n",
       "    <tr style=\"text-align: right;\">\n",
       "      <th></th>\n",
       "      <th>Engine_size</th>\n",
       "      <th>Cylinders</th>\n",
       "      <th>Fuel_cons_city</th>\n",
       "      <th>Fuel_cons_Hwy</th>\n",
       "      <th>Fuel_cons_comb</th>\n",
       "      <th>Fuel Consumption Comb (mpg)</th>\n",
       "      <th>CO2_emitted</th>\n",
       "    </tr>\n",
       "  </thead>\n",
       "  <tbody>\n",
       "    <tr>\n",
       "      <th>Engine_size</th>\n",
       "      <td>1.000000</td>\n",
       "      <td>0.926963</td>\n",
       "      <td>0.822038</td>\n",
       "      <td>0.754453</td>\n",
       "      <td>0.808305</td>\n",
       "      <td>-0.744284</td>\n",
       "      <td>0.844341</td>\n",
       "    </tr>\n",
       "    <tr>\n",
       "      <th>Cylinders</th>\n",
       "      <td>0.926963</td>\n",
       "      <td>1.000000</td>\n",
       "      <td>0.790989</td>\n",
       "      <td>0.707700</td>\n",
       "      <td>0.771339</td>\n",
       "      <td>-0.704259</td>\n",
       "      <td>0.823752</td>\n",
       "    </tr>\n",
       "    <tr>\n",
       "      <th>Fuel_cons_city</th>\n",
       "      <td>0.822038</td>\n",
       "      <td>0.790989</td>\n",
       "      <td>1.000000</td>\n",
       "      <td>0.947593</td>\n",
       "      <td>0.993615</td>\n",
       "      <td>-0.927345</td>\n",
       "      <td>0.920868</td>\n",
       "    </tr>\n",
       "    <tr>\n",
       "      <th>Fuel_cons_Hwy</th>\n",
       "      <td>0.754453</td>\n",
       "      <td>0.707700</td>\n",
       "      <td>0.947593</td>\n",
       "      <td>1.000000</td>\n",
       "      <td>0.977283</td>\n",
       "      <td>-0.889965</td>\n",
       "      <td>0.886540</td>\n",
       "    </tr>\n",
       "    <tr>\n",
       "      <th>Fuel_cons_comb</th>\n",
       "      <td>0.808305</td>\n",
       "      <td>0.771339</td>\n",
       "      <td>0.993615</td>\n",
       "      <td>0.977283</td>\n",
       "      <td>1.000000</td>\n",
       "      <td>-0.925576</td>\n",
       "      <td>0.920014</td>\n",
       "    </tr>\n",
       "    <tr>\n",
       "      <th>Fuel Consumption Comb (mpg)</th>\n",
       "      <td>-0.744284</td>\n",
       "      <td>-0.704259</td>\n",
       "      <td>-0.927345</td>\n",
       "      <td>-0.889965</td>\n",
       "      <td>-0.925576</td>\n",
       "      <td>1.000000</td>\n",
       "      <td>-0.904174</td>\n",
       "    </tr>\n",
       "    <tr>\n",
       "      <th>CO2_emitted</th>\n",
       "      <td>0.844341</td>\n",
       "      <td>0.823752</td>\n",
       "      <td>0.920868</td>\n",
       "      <td>0.886540</td>\n",
       "      <td>0.920014</td>\n",
       "      <td>-0.904174</td>\n",
       "      <td>1.000000</td>\n",
       "    </tr>\n",
       "  </tbody>\n",
       "</table>\n",
       "</div>"
      ],
      "text/plain": [
       "                             Engine_size  Cylinders  Fuel_cons_city  \\\n",
       "Engine_size                     1.000000   0.926963        0.822038   \n",
       "Cylinders                       0.926963   1.000000        0.790989   \n",
       "Fuel_cons_city                  0.822038   0.790989        1.000000   \n",
       "Fuel_cons_Hwy                   0.754453   0.707700        0.947593   \n",
       "Fuel_cons_comb                  0.808305   0.771339        0.993615   \n",
       "Fuel Consumption Comb (mpg)    -0.744284  -0.704259       -0.927345   \n",
       "CO2_emitted                     0.844341   0.823752        0.920868   \n",
       "\n",
       "                             Fuel_cons_Hwy  Fuel_cons_comb  \\\n",
       "Engine_size                       0.754453        0.808305   \n",
       "Cylinders                         0.707700        0.771339   \n",
       "Fuel_cons_city                    0.947593        0.993615   \n",
       "Fuel_cons_Hwy                     1.000000        0.977283   \n",
       "Fuel_cons_comb                    0.977283        1.000000   \n",
       "Fuel Consumption Comb (mpg)      -0.889965       -0.925576   \n",
       "CO2_emitted                       0.886540        0.920014   \n",
       "\n",
       "                             Fuel Consumption Comb (mpg)  CO2_emitted  \n",
       "Engine_size                                    -0.744284     0.844341  \n",
       "Cylinders                                      -0.704259     0.823752  \n",
       "Fuel_cons_city                                 -0.927345     0.920868  \n",
       "Fuel_cons_Hwy                                  -0.889965     0.886540  \n",
       "Fuel_cons_comb                                 -0.925576     0.920014  \n",
       "Fuel Consumption Comb (mpg)                     1.000000    -0.904174  \n",
       "CO2_emitted                                    -0.904174     1.000000  "
      ]
     },
     "execution_count": 19,
     "metadata": {},
     "output_type": "execute_result"
    }
   ],
   "source": [
    "df.corr()"
   ]
  },
  {
   "cell_type": "code",
   "execution_count": 37,
   "id": "38ca9e90",
   "metadata": {},
   "outputs": [
    {
     "name": "stdout",
     "output_type": "stream",
     "text": [
      "Skewness before log trans is :  0.8693127756524767\n",
      "Skewness with log transformation is :  0.13258620634550541\n"
     ]
    },
    {
     "name": "stderr",
     "output_type": "stream",
     "text": [
      "C:\\Users\\Rushikesh\\AppData\\Local\\Temp\\ipykernel_3156\\200899468.py:6: UserWarning: \n",
      "\n",
      "`distplot` is a deprecated function and will be removed in seaborn v0.14.0.\n",
      "\n",
      "Please adapt your code to use either `displot` (a figure-level function with\n",
      "similar flexibility) or `histplot` (an axes-level function for histograms).\n",
      "\n",
      "For a guide to updating your code to use the new functions, please see\n",
      "https://gist.github.com/mwaskom/de44147ed2974457ad6372750bbe5751\n",
      "\n",
      "  sns.distplot(eng_log)\n"
     ]
    },
    {
     "data": {
      "text/plain": [
       "<Axes: xlabel='Engine_size', ylabel='Density'>"
      ]
     },
     "execution_count": 37,
     "metadata": {},
     "output_type": "execute_result"
    },
    {
     "data": {
      "image/png": "[encoded data removed]",
      "text/plain": [
       "<Figure size 640x480 with 1 Axes>"
      ]
     },
     "metadata": {},
     "output_type": "display_data"
    }
   ],
   "source": [
    "print(\"Skewness before log trans is : \", df['Engine_size'].skew())\n",
    "\n",
    "\n",
    "eng_log = np.log(df['Engine_size'])\n",
    "print(\"Skewness with log transformation is : \",eng_log.skew())\n",
    "sns.distplot(eng_log)"
   ]
  },
  {
   "cell_type": "code",
   "execution_count": 35,
   "id": "d3ff983e",
   "metadata": {},
   "outputs": [
    {
     "name": "stdout",
     "output_type": "stream",
     "text": [
      "Skewness without log transf is :  1.2071206091843405\n",
      "Skewness with log transformation is :  0.5166731880364754\n"
     ]
    },
    {
     "name": "stderr",
     "output_type": "stream",
     "text": [
      "C:\\Users\\Rushikesh\\AppData\\Local\\Temp\\ipykernel_3156\\3529779599.py:6: UserWarning: \n",
      "\n",
      "`distplot` is a deprecated function and will be removed in seaborn v0.14.0.\n",
      "\n",
      "Please adapt your code to use either `displot` (a figure-level function with\n",
      "similar flexibility) or `histplot` (an axes-level function for histograms).\n",
      "\n",
      "For a guide to updating your code to use the new functions, please see\n",
      "https://gist.github.com/mwaskom/de44147ed2974457ad6372750bbe5751\n",
      "\n",
      "  sns.distplot(cyl_log)\n"
     ]
    },
    {
     "data": {
      "text/plain": [
       "<Axes: xlabel='Cylinders', ylabel='Density'>"
      ]
     },
     "execution_count": 35,
     "metadata": {},
     "output_type": "execute_result"
    },
    {
     "data": {
      "image/png": "[encoded data removed]",
      "text/plain": [
       "<Figure size 640x480 with 1 Axes>"
      ]
     },
     "metadata": {},
     "output_type": "display_data"
    }
   ],
   "source": [
    "print(\"Skewness without log transf is : \", df['Cylinders'].skew())\n",
    "\n",
    "cyl_log = np.log(df['Cylinders'])\n",
    "print(\"Skewness with log transformation is : \",cyl_log.skew())\n",
    "\n",
    "sns.distplot(cyl_log)"
   ]
  },
  {
   "cell_type": "code",
   "execution_count": 40,
   "id": "67aaffed",
   "metadata": {},
   "outputs": [
    {
     "name": "stdout",
     "output_type": "stream",
     "text": [
      "Skewness without log transformation is :  0.8688178393553213\n",
      "Skewness with log transformation is :  0.011018331671378265\n"
     ]
    },
    {
     "name": "stderr",
     "output_type": "stream",
     "text": [
      "C:\\Users\\Rushikesh\\AppData\\Local\\Temp\\ipykernel_3156\\1086072972.py:5: UserWarning: \n",
      "\n",
      "`distplot` is a deprecated function and will be removed in seaborn v0.14.0.\n",
      "\n",
      "Please adapt your code to use either `displot` (a figure-level function with\n",
      "similar flexibility) or `histplot` (an axes-level function for histograms).\n",
      "\n",
      "For a guide to updating your code to use the new functions, please see\n",
      "https://gist.github.com/mwaskom/de44147ed2974457ad6372750bbe5751\n",
      "\n",
      "  sns.distplot(fuel_log)\n"
     ]
    },
    {
     "data": {
      "text/plain": [
       "<Axes: xlabel='Fuel_cons_comb', ylabel='Density'>"
      ]
     },
     "execution_count": 40,
     "metadata": {},
     "output_type": "execute_result"
    },
    {
     "data": {
      "image/png": "[encoded data removed]",
      "text/plain": [
       "<Figure size 640x480 with 1 Axes>"
      ]
     },
     "metadata": {},
     "output_type": "display_data"
    }
   ],
   "source": [
    "print(\"Skewness without log transformation is : \", df['Fuel_cons_comb'].skew())\n",
    "\n",
    "fuel_log = np.log(df['Fuel_cons_comb'])\n",
    "print(\"Skewness with log transformation is : \",fuel_log.skew())\n",
    "sns.distplot(fuel_log)"
   ]
  },
  {
   "cell_type": "code",
   "execution_count": 145,
   "id": "7d05490e",
   "metadata": {},
   "outputs": [
    {
     "name": "stdout",
     "output_type": "stream",
     "text": [
      "Skewness without log transformation is :  0.9668138733616167\n",
      "Skewness with log transformation is :  -0.010960536643991617\n"
     ]
    },
    {
     "name": "stderr",
     "output_type": "stream",
     "text": [
      "C:\\Users\\Rushikesh\\AppData\\Local\\Temp\\ipykernel_3156\\2007876412.py:5: UserWarning: \n",
      "\n",
      "`distplot` is a deprecated function and will be removed in seaborn v0.14.0.\n",
      "\n",
      "Please adapt your code to use either `displot` (a figure-level function with\n",
      "similar flexibility) or `histplot` (an axes-level function for histograms).\n",
      "\n",
      "For a guide to updating your code to use the new functions, please see\n",
      "https://gist.github.com/mwaskom/de44147ed2974457ad6372750bbe5751\n",
      "\n",
      "  sns.distplot(fuel_mpg)\n"
     ]
    },
    {
     "data": {
      "text/plain": [
       "<Axes: xlabel='Fuel Consumption Comb (mpg)', ylabel='Density'>"
      ]
     },
     "execution_count": 145,
     "metadata": {},
     "output_type": "execute_result"
    },
    {
     "data": {
      "image/png": "[encoded data removed]",
      "text/plain": [
       "<Figure size 640x480 with 1 Axes>"
      ]
     },
     "metadata": {},
     "output_type": "display_data"
    }
   ],
   "source": [
    "print(\"Skewness without log transformation is : \", df['Fuel Consumption Comb (mpg)'].skew())\n",
    "\n",
    "fuel_mpg = np.log(df['Fuel Consumption Comb (mpg)'])\n",
    "print(\"Skewness with log transformation is : \",fuel_mpg.skew())\n",
    "sns.distplot(fuel_mpg)"
   ]
  },
  {
   "cell_type": "code",
   "execution_count": 160,
   "id": "82d0a2cd",
   "metadata": {},
   "outputs": [
    {
     "name": "stdout",
     "output_type": "stream",
     "text": [
      "Skewness without log transf is :  0.5572562885035485\n",
      "Skewness with log transformation is :  -0.1986999837811412\n"
     ]
    },
    {
     "name": "stderr",
     "output_type": "stream",
     "text": [
      "C:\\Users\\Rushikesh\\AppData\\Local\\Temp\\ipykernel_3156\\3746910882.py:6: UserWarning: \n",
      "\n",
      "`distplot` is a deprecated function and will be removed in seaborn v0.14.0.\n",
      "\n",
      "Please adapt your code to use either `displot` (a figure-level function with\n",
      "similar flexibility) or `histplot` (an axes-level function for histograms).\n",
      "\n",
      "For a guide to updating your code to use the new functions, please see\n",
      "https://gist.github.com/mwaskom/de44147ed2974457ad6372750bbe5751\n",
      "\n",
      "  sns.distplot(co2_log)\n"
     ]
    },
    {
     "data": {
      "text/plain": [
       "<Axes: xlabel='CO2_emitted', ylabel='Density'>"
      ]
     },
     "execution_count": 160,
     "metadata": {},
     "output_type": "execute_result"
    },
    {
     "data": {
      "image/png": "[encoded data removed]",
      "text/plain": [
       "<Figure size 640x480 with 1 Axes>"
      ]
     },
     "metadata": {},
     "output_type": "display_data"
    }
   ],
   "source": [
    "print(\"Skewness without log transf is : \", df['CO2_emitted'].skew())\n",
    "\n",
    "co2_log = np.log(df['CO2_emitted'])\n",
    "print(\"Skewness with log transformation is : \",co2_log.skew())\n",
    "\n",
    "sns.distplot(co2_log)"
   ]
  },
  {
   "cell_type": "markdown",
   "id": "b74d6b4c",
   "metadata": {},
   "source": [
    "# Outlier detection and removal or replaceent\n",
    "\n",
    "### We can see for all the veriables, max and min values are not so much deviated from mean, so outliers will have minimal effect on the predictions"
   ]
  },
  {
   "cell_type": "markdown",
   "id": "24714f61",
   "metadata": {},
   "source": [
    "# Standardization"
   ]
  },
  {
   "cell_type": "code",
   "execution_count": 125,
   "id": "805e678b",
   "metadata": {},
   "outputs": [
    {
     "data": {
      "text/html": [
       "<style>#sk-container-id-7 {color: black;}#sk-container-id-7 pre{padding: 0;}#sk-container-id-7 div.sk-toggleable {background-color: white;}#sk-container-id-7 label.sk-toggleable__label {cursor: pointer;display: block;width: 100%;margin-bottom: 0;padding: 0.3em;box-sizing: border-box;text-align: center;}#sk-container-id-7 label.sk-toggleable__label-arrow:before {content: \"▸\";float: left;margin-right: 0.25em;color: #696969;}#sk-container-id-7 label.sk-toggleable__label-arrow:hover:before {color: black;}#sk-container-id-7 div.sk-estimator:hover label.sk-toggleable__label-arrow:before {color: black;}#sk-container-id-7 div.sk-toggleable__content {max-height: 0;max-width: 0;overflow: hidden;text-align: left;background-color: #f0f8ff;}#sk-container-id-7 div.sk-toggleable__content pre {margin: 0.2em;color: black;border-radius: 0.25em;background-color: #f0f8ff;}#sk-container-id-7 input.sk-toggleable__control:checked~div.sk-toggleable__content {max-height: 200px;max-width: 100%;overflow: auto;}#sk-container-id-7 input.sk-toggleable__control:checked~label.sk-toggleable__label-arrow:before {content: \"▾\";}#sk-container-id-7 div.sk-estimator input.sk-toggleable__control:checked~label.sk-toggleable__label {background-color: #d4ebff;}#sk-container-id-7 div.sk-label input.sk-toggleable__control:checked~label.sk-toggleable__label {background-color: #d4ebff;}#sk-container-id-7 input.sk-hidden--visually {border: 0;clip: rect(1px 1px 1px 1px);clip: rect(1px, 1px, 1px, 1px);height: 1px;margin: -1px;overflow: hidden;padding: 0;position: absolute;width: 1px;}#sk-container-id-7 div.sk-estimator {font-family: monospace;background-color: #f0f8ff;border: 1px dotted black;border-radius: 0.25em;box-sizing: border-box;margin-bottom: 0.5em;}#sk-container-id-7 div.sk-estimator:hover {background-color: #d4ebff;}#sk-container-id-7 div.sk-parallel-item::after {content: \"\";width: 100%;border-bottom: 1px solid gray;flex-grow: 1;}#sk-container-id-7 div.sk-label:hover label.sk-toggleable__label {background-color: #d4ebff;}#sk-container-id-7 div.sk-serial::before {content: \"\";position: absolute;border-left: 1px solid gray;box-sizing: border-box;top: 0;bottom: 0;left: 50%;z-index: 0;}#sk-container-id-7 div.sk-serial {display: flex;flex-direction: column;align-items: center;background-color: white;padding-right: 0.2em;padding-left: 0.2em;position: relative;}#sk-container-id-7 div.sk-item {position: relative;z-index: 1;}#sk-container-id-7 div.sk-parallel {display: flex;align-items: stretch;justify-content: center;background-color: white;position: relative;}#sk-container-id-7 div.sk-item::before, #sk-container-id-7 div.sk-parallel-item::before {content: \"\";position: absolute;border-left: 1px solid gray;box-sizing: border-box;top: 0;bottom: 0;left: 50%;z-index: -1;}#sk-container-id-7 div.sk-parallel-item {display: flex;flex-direction: column;z-index: 1;position: relative;background-color: white;}#sk-container-id-7 div.sk-parallel-item:first-child::after {align-self: flex-end;width: 50%;}#sk-container-id-7 div.sk-parallel-item:last-child::after {align-self: flex-start;width: 50%;}#sk-container-id-7 div.sk-parallel-item:only-child::after {width: 0;}#sk-container-id-7 div.sk-dashed-wrapped {border: 1px dashed gray;margin: 0 0.4em 0.5em 0.4em;box-sizing: border-box;padding-bottom: 0.4em;background-color: white;}#sk-container-id-7 div.sk-label label {font-family: monospace;font-weight: bold;display: inline-block;line-height: 1.2em;}#sk-container-id-7 div.sk-label-container {text-align: center;}#sk-container-id-7 div.sk-container {/* jupyter's `normalize.less` sets `[hidden] { display: none; }` but bootstrap.min.css set `[hidden] { display: none !important; }` so we also need the `!important` here to be able to override the default hidden behavior on the sphinx rendered scikit-learn.org. See: https://github.com/scikit-learn/scikit-learn/issues/21755 */display: inline-block !important;position: relative;}#sk-container-id-7 div.sk-text-repr-fallback {display: none;}</style><div id=\"sk-container-id-7\" class=\"sk-top-container\"><div class=\"sk-text-repr-fallback\"><pre>StandardScaler()</pre><b>In a Jupyter environment, please rerun this cell to show the HTML representation or trust the notebook. <br />On GitHub, the HTML representation is unable to render, please try loading this page with nbviewer.org.</b></div><div class=\"sk-container\" hidden><div class=\"sk-item\"><div class=\"sk-estimator sk-toggleable\"><input class=\"sk-toggleable__control sk-hidden--visually\" id=\"sk-estimator-id-7\" type=\"checkbox\" checked><label for=\"sk-estimator-id-7\" class=\"sk-toggleable__label sk-toggleable__label-arrow\">StandardScaler</label><div class=\"sk-toggleable__content\"><pre>StandardScaler()</pre></div></div></div></div></div>"
      ],
      "text/plain": [
       "StandardScaler()"
      ]
     },
     "execution_count": 125,
     "metadata": {},
     "output_type": "execute_result"
    }
   ],
   "source": [
    "scalar = StandardScaler()\n",
    "scalar"
   ]
  },
  {
   "cell_type": "code",
   "execution_count": 146,
   "id": "1ac29c34",
   "metadata": {},
   "outputs": [],
   "source": [
    "X = df[['Engine_size', 'Cylinders', 'Fuel_cons_comb', \"Fuel Consumption Comb (mpg)\"]]\n",
    "Y = df['CO2_emitted']"
   ]
  },
  {
   "cell_type": "code",
   "execution_count": 147,
   "id": "3c39b3e5",
   "metadata": {},
   "outputs": [],
   "source": [
    "X_train, X_test, Y_train, Y_test = train_test_split(X, Y, train_size=0.8, random_state=1236)"
   ]
  },
  {
   "cell_type": "code",
   "execution_count": 148,
   "id": "627f4fb1",
   "metadata": {},
   "outputs": [
    {
     "name": "stdout",
     "output_type": "stream",
     "text": [
      "(3488, 4) (3488,)\n",
      "(872, 4) (872,)\n"
     ]
    }
   ],
   "source": [
    "print(X_train.shape, Y_train.shape)\n",
    "print(X_test.shape, Y_test.shape)"
   ]
  },
  {
   "cell_type": "code",
   "execution_count": 149,
   "id": "8cbaa724",
   "metadata": {},
   "outputs": [],
   "source": [
    "x_train = scalar.fit_transform(X_train)\n",
    "x_test = scalar.transform(X_test)"
   ]
  },
  {
   "cell_type": "code",
   "execution_count": 150,
   "id": "c5150f4d",
   "metadata": {},
   "outputs": [
    {
     "name": "stdout",
     "output_type": "stream",
     "text": [
      "[[-0.82610151 -0.8479285  -0.71890027  0.57564552]\n",
      " [ 0.52019199  0.2572937  -0.105372   -0.09763313]\n",
      " [-1.42445418 -1.40053959 -1.57102287  2.32617001]\n",
      " ...\n",
      " [-0.07816068  0.2572937   0.20139214 -0.36694458]\n",
      " [-1.27486602 -0.8479285  -1.43468325  1.92220282]\n",
      " [-1.12527785 -0.8479285  -1.19608892  1.3835799 ]]\n"
     ]
    }
   ],
   "source": [
    "print(x_train)"
   ]
  },
  {
   "cell_type": "code",
   "execution_count": 151,
   "id": "ea7d496f",
   "metadata": {},
   "outputs": [
    {
     "name": "stdout",
     "output_type": "stream",
     "text": [
      "[[-0.45213109 -0.8479285  -0.78707008  0.71030125]\n",
      " [-0.45213109 -0.8479285  -0.48030594  0.30633406]\n",
      " [-0.07816068  0.2572937  -0.1735418  -0.09763313]\n",
      " ...\n",
      " [ 0.52019199  0.2572937   0.16730724 -0.36694458]\n",
      " [-1.12527785 -0.8479285  -1.09383421  1.24892417]\n",
      " [ 2.16566184  3.57296028  1.87155244 -1.44419042]]\n"
     ]
    }
   ],
   "source": [
    "print(x_test)"
   ]
  },
  {
   "cell_type": "code",
   "execution_count": 152,
   "id": "6de3c863",
   "metadata": {},
   "outputs": [
    {
     "data": {
      "text/html": [
       "<style>#sk-container-id-10 {color: black;}#sk-container-id-10 pre{padding: 0;}#sk-container-id-10 div.sk-toggleable {background-color: white;}#sk-container-id-10 label.sk-toggleable__label {cursor: pointer;display: block;width: 100%;margin-bottom: 0;padding: 0.3em;box-sizing: border-box;text-align: center;}#sk-container-id-10 label.sk-toggleable__label-arrow:before {content: \"▸\";float: left;margin-right: 0.25em;color: #696969;}#sk-container-id-10 label.sk-toggleable__label-arrow:hover:before {color: black;}#sk-container-id-10 div.sk-estimator:hover label.sk-toggleable__label-arrow:before {color: black;}#sk-container-id-10 div.sk-toggleable__content {max-height: 0;max-width: 0;overflow: hidden;text-align: left;background-color: #f0f8ff;}#sk-container-id-10 div.sk-toggleable__content pre {margin: 0.2em;color: black;border-radius: 0.25em;background-color: #f0f8ff;}#sk-container-id-10 input.sk-toggleable__control:checked~div.sk-toggleable__content {max-height: 200px;max-width: 100%;overflow: auto;}#sk-container-id-10 input.sk-toggleable__control:checked~label.sk-toggleable__label-arrow:before {content: \"▾\";}#sk-container-id-10 div.sk-estimator input.sk-toggleable__control:checked~label.sk-toggleable__label {background-color: #d4ebff;}#sk-container-id-10 div.sk-label input.sk-toggleable__control:checked~label.sk-toggleable__label {background-color: #d4ebff;}#sk-container-id-10 input.sk-hidden--visually {border: 0;clip: rect(1px 1px 1px 1px);clip: rect(1px, 1px, 1px, 1px);height: 1px;margin: -1px;overflow: hidden;padding: 0;position: absolute;width: 1px;}#sk-container-id-10 div.sk-estimator {font-family: monospace;background-color: #f0f8ff;border: 1px dotted black;border-radius: 0.25em;box-sizing: border-box;margin-bottom: 0.5em;}#sk-container-id-10 div.sk-estimator:hover {background-color: #d4ebff;}#sk-container-id-10 div.sk-parallel-item::after {content: \"\";width: 100%;border-bottom: 1px solid gray;flex-grow: 1;}#sk-container-id-10 div.sk-label:hover label.sk-toggleable__label {background-color: #d4ebff;}#sk-container-id-10 div.sk-serial::before {content: \"\";position: absolute;border-left: 1px solid gray;box-sizing: border-box;top: 0;bottom: 0;left: 50%;z-index: 0;}#sk-container-id-10 div.sk-serial {display: flex;flex-direction: column;align-items: center;background-color: white;padding-right: 0.2em;padding-left: 0.2em;position: relative;}#sk-container-id-10 div.sk-item {position: relative;z-index: 1;}#sk-container-id-10 div.sk-parallel {display: flex;align-items: stretch;justify-content: center;background-color: white;position: relative;}#sk-container-id-10 div.sk-item::before, #sk-container-id-10 div.sk-parallel-item::before {content: \"\";position: absolute;border-left: 1px solid gray;box-sizing: border-box;top: 0;bottom: 0;left: 50%;z-index: -1;}#sk-container-id-10 div.sk-parallel-item {display: flex;flex-direction: column;z-index: 1;position: relative;background-color: white;}#sk-container-id-10 div.sk-parallel-item:first-child::after {align-self: flex-end;width: 50%;}#sk-container-id-10 div.sk-parallel-item:last-child::after {align-self: flex-start;width: 50%;}#sk-container-id-10 div.sk-parallel-item:only-child::after {width: 0;}#sk-container-id-10 div.sk-dashed-wrapped {border: 1px dashed gray;margin: 0 0.4em 0.5em 0.4em;box-sizing: border-box;padding-bottom: 0.4em;background-color: white;}#sk-container-id-10 div.sk-label label {font-family: monospace;font-weight: bold;display: inline-block;line-height: 1.2em;}#sk-container-id-10 div.sk-label-container {text-align: center;}#sk-container-id-10 div.sk-container {/* jupyter's `normalize.less` sets `[hidden] { display: none; }` but bootstrap.min.css set `[hidden] { display: none !important; }` so we also need the `!important` here to be able to override the default hidden behavior on the sphinx rendered scikit-learn.org. See: https://github.com/scikit-learn/scikit-learn/issues/21755 */display: inline-block !important;position: relative;}#sk-container-id-10 div.sk-text-repr-fallback {display: none;}</style><div id=\"sk-container-id-10\" class=\"sk-top-container\"><div class=\"sk-text-repr-fallback\"><pre>LinearRegression()</pre><b>In a Jupyter environment, please rerun this cell to show the HTML representation or trust the notebook. <br />On GitHub, the HTML representation is unable to render, please try loading this page with nbviewer.org.</b></div><div class=\"sk-container\" hidden><div class=\"sk-item\"><div class=\"sk-estimator sk-toggleable\"><input class=\"sk-toggleable__control sk-hidden--visually\" id=\"sk-estimator-id-10\" type=\"checkbox\" checked><label for=\"sk-estimator-id-10\" class=\"sk-toggleable__label sk-toggleable__label-arrow\">LinearRegression</label><div class=\"sk-toggleable__content\"><pre>LinearRegression()</pre></div></div></div></div></div>"
      ],
      "text/plain": [
       "LinearRegression()"
      ]
     },
     "execution_count": 152,
     "metadata": {},
     "output_type": "execute_result"
    }
   ],
   "source": [
    "model = LinearRegression()\n",
    "model"
   ]
  },
  {
   "cell_type": "code",
   "execution_count": 153,
   "id": "6f8493fa",
   "metadata": {},
   "outputs": [
    {
     "data": {
      "text/html": [
       "<style>#sk-container-id-11 {color: black;}#sk-container-id-11 pre{padding: 0;}#sk-container-id-11 div.sk-toggleable {background-color: white;}#sk-container-id-11 label.sk-toggleable__label {cursor: pointer;display: block;width: 100%;margin-bottom: 0;padding: 0.3em;box-sizing: border-box;text-align: center;}#sk-container-id-11 label.sk-toggleable__label-arrow:before {content: \"▸\";float: left;margin-right: 0.25em;color: #696969;}#sk-container-id-11 label.sk-toggleable__label-arrow:hover:before {color: black;}#sk-container-id-11 div.sk-estimator:hover label.sk-toggleable__label-arrow:before {color: black;}#sk-container-id-11 div.sk-toggleable__content {max-height: 0;max-width: 0;overflow: hidden;text-align: left;background-color: #f0f8ff;}#sk-container-id-11 div.sk-toggleable__content pre {margin: 0.2em;color: black;border-radius: 0.25em;background-color: #f0f8ff;}#sk-container-id-11 input.sk-toggleable__control:checked~div.sk-toggleable__content {max-height: 200px;max-width: 100%;overflow: auto;}#sk-container-id-11 input.sk-toggleable__control:checked~label.sk-toggleable__label-arrow:before {content: \"▾\";}#sk-container-id-11 div.sk-estimator input.sk-toggleable__control:checked~label.sk-toggleable__label {background-color: #d4ebff;}#sk-container-id-11 div.sk-label input.sk-toggleable__control:checked~label.sk-toggleable__label {background-color: #d4ebff;}#sk-container-id-11 input.sk-hidden--visually {border: 0;clip: rect(1px 1px 1px 1px);clip: rect(1px, 1px, 1px, 1px);height: 1px;margin: -1px;overflow: hidden;padding: 0;position: absolute;width: 1px;}#sk-container-id-11 div.sk-estimator {font-family: monospace;background-color: #f0f8ff;border: 1px dotted black;border-radius: 0.25em;box-sizing: border-box;margin-bottom: 0.5em;}#sk-container-id-11 div.sk-estimator:hover {background-color: #d4ebff;}#sk-container-id-11 div.sk-parallel-item::after {content: \"\";width: 100%;border-bottom: 1px solid gray;flex-grow: 1;}#sk-container-id-11 div.sk-label:hover label.sk-toggleable__label {background-color: #d4ebff;}#sk-container-id-11 div.sk-serial::before {content: \"\";position: absolute;border-left: 1px solid gray;box-sizing: border-box;top: 0;bottom: 0;left: 50%;z-index: 0;}#sk-container-id-11 div.sk-serial {display: flex;flex-direction: column;align-items: center;background-color: white;padding-right: 0.2em;padding-left: 0.2em;position: relative;}#sk-container-id-11 div.sk-item {position: relative;z-index: 1;}#sk-container-id-11 div.sk-parallel {display: flex;align-items: stretch;justify-content: center;background-color: white;position: relative;}#sk-container-id-11 div.sk-item::before, #sk-container-id-11 div.sk-parallel-item::before {content: \"\";position: absolute;border-left: 1px solid gray;box-sizing: border-box;top: 0;bottom: 0;left: 50%;z-index: -1;}#sk-container-id-11 div.sk-parallel-item {display: flex;flex-direction: column;z-index: 1;position: relative;background-color: white;}#sk-container-id-11 div.sk-parallel-item:first-child::after {align-self: flex-end;width: 50%;}#sk-container-id-11 div.sk-parallel-item:last-child::after {align-self: flex-start;width: 50%;}#sk-container-id-11 div.sk-parallel-item:only-child::after {width: 0;}#sk-container-id-11 div.sk-dashed-wrapped {border: 1px dashed gray;margin: 0 0.4em 0.5em 0.4em;box-sizing: border-box;padding-bottom: 0.4em;background-color: white;}#sk-container-id-11 div.sk-label label {font-family: monospace;font-weight: bold;display: inline-block;line-height: 1.2em;}#sk-container-id-11 div.sk-label-container {text-align: center;}#sk-container-id-11 div.sk-container {/* jupyter's `normalize.less` sets `[hidden] { display: none; }` but bootstrap.min.css set `[hidden] { display: none !important; }` so we also need the `!important` here to be able to override the default hidden behavior on the sphinx rendered scikit-learn.org. See: https://github.com/scikit-learn/scikit-learn/issues/21755 */display: inline-block !important;position: relative;}#sk-container-id-11 div.sk-text-repr-fallback {display: none;}</style><div id=\"sk-container-id-11\" class=\"sk-top-container\"><div class=\"sk-text-repr-fallback\"><pre>LinearRegression()</pre><b>In a Jupyter environment, please rerun this cell to show the HTML representation or trust the notebook. <br />On GitHub, the HTML representation is unable to render, please try loading this page with nbviewer.org.</b></div><div class=\"sk-container\" hidden><div class=\"sk-item\"><div class=\"sk-estimator sk-toggleable\"><input class=\"sk-toggleable__control sk-hidden--visually\" id=\"sk-estimator-id-11\" type=\"checkbox\" checked><label for=\"sk-estimator-id-11\" class=\"sk-toggleable__label sk-toggleable__label-arrow\">LinearRegression</label><div class=\"sk-toggleable__content\"><pre>LinearRegression()</pre></div></div></div></div></div>"
      ],
      "text/plain": [
       "LinearRegression()"
      ]
     },
     "execution_count": 153,
     "metadata": {},
     "output_type": "execute_result"
    }
   ],
   "source": [
    "model_fit = model.fit(x_train, Y_train)\n",
    "model_fit"
   ]
  },
  {
   "cell_type": "code",
   "execution_count": 154,
   "id": "c394cd34",
   "metadata": {},
   "outputs": [
    {
     "data": {
      "text/plain": [
       "array([206.32374957, 256.14579217, 139.24103557, ..., 263.46360839,\n",
       "       158.68601205, 176.65055044])"
      ]
     },
     "execution_count": 154,
     "metadata": {},
     "output_type": "execute_result"
    }
   ],
   "source": [
    "pred_train = model_fit.predict(x_train)\n",
    "pred_train"
   ]
  },
  {
   "cell_type": "code",
   "execution_count": 155,
   "id": "4bd8d92a",
   "metadata": {},
   "outputs": [
    {
     "name": "stdout",
     "output_type": "stream",
     "text": [
      "r2 score of trained model is :  0.89\n"
     ]
    }
   ],
   "source": [
    "print(\"r2 score of trained model is : \", round(r2_score(pred_train, Y_train),2))"
   ]
  },
  {
   "cell_type": "code",
   "execution_count": 156,
   "id": "c1b80c0b",
   "metadata": {
    "scrolled": true
   },
   "outputs": [
    {
     "data": {
      "text/plain": [
       "array([204.77304189, 219.72057833, 250.40762857, 260.62105007,\n",
       "       259.59916062, 310.85789518, 190.8689589 , 260.62105007,\n",
       "       236.41175121, 225.32128158, 222.70797797, 273.9432679 ,\n",
       "       157.69802704, 257.69649984, 273.27333154, 270.13428855,\n",
       "       143.02783278, 205.70555846, 257.07830874, 308.49606762,\n",
       "       244.80692532, 213.50168397, 292.73003033, 240.51287388,\n",
       "       176.08782776, 236.14855284, 130.2387353 , 185.37919251,\n",
       "       254.40215572, 185.37919251, 171.16078405, 228.50468884,\n",
       "       222.50766821, 323.29568389, 302.49166602, 207.95644915,\n",
       "       239.14337266, 278.71501047, 350.83565281, 200.88637278,\n",
       "       171.77897516, 211.30626171, 250.40762857, 230.30379372,\n",
       "       278.65954203, 259.44013629, 255.02034682, 196.97691639,\n",
       "       206.32374957, 218.53966455, 268.44612054, 142.09531621,\n",
       "       265.04083954, 292.95190406, 301.15172792, 144.90892957,\n",
       "       308.44059919, 248.8569209 , 216.28877386, 265.65903065,\n",
       "       158.17875781, 269.68250275, 283.58658574, 305.68245426,\n",
       "       256.00833182, 201.41150702, 264.98537111, 215.67058275,\n",
       "       227.49018036, 283.69752261, 206.94194068, 263.9153942 ,\n",
       "       213.50168397, 322.89936652, 181.71505449, 206.94194068,\n",
       "       354.85238827, 266.22175332, 267.99433473, 270.64154279,\n",
       "       220.6530949 , 258.25922252, 324.62758365, 264.92990268,\n",
       "       303.43156357, 181.71505449, 130.2387353 , 195.3442168 ,\n",
       "       194.10783459, 201.34123742, 319.33010171, 156.06532746,\n",
       "       253.83943304, 292.33371296, 283.02386307, 223.57764513,\n",
       "       303.3206267 , 271.76698814, 249.41964357, 333.56457382,\n",
       "       271.76698814, 199.79052975, 265.15177641, 314.09677087,\n",
       "       305.68245426, 208.51917183, 218.53966455, 259.30267595,\n",
       "       189.74351355, 278.71501047, 216.90696496, 273.27333154,\n",
       "       322.77301033, 267.20973832, 287.6439623 , 246.59864923,\n",
       "       387.22021254, 173.41167474, 154.88441368, 256.62652293,\n",
       "       134.60305634, 266.27722176, 369.74073309, 371.50657786,\n",
       "       367.59404263, 363.52183874, 303.82788094, 202.8919451 ,\n",
       "        59.28414032, 315.93592487, 196.35872528, 267.4026671 ,\n",
       "       195.23327994, 232.4726925 , 211.92445282, 159.86692582,\n",
       "       261.74649542, 257.64103141, 241.06079539, 257.64103141,\n",
       "       381.5233474 , 191.99440424, 194.86348604, 325.49110615,\n",
       "       231.23631029, 257.24471404, 360.87593237, 239.20622207,\n",
       "       283.07933151, 240.44260429, 286.1148186 , 234.22370993,\n",
       "       243.674099  , 255.39014072, 215.67058275, 341.01985039,\n",
       "       326.97830705, 304.93790697, 227.49018036, 221.271286  ,\n",
       "       185.37919251, 303.59058789, 236.83701354, 264.98537111,\n",
       "       258.20375408, 201.95942853, 234.22370993, 207.95644915,\n",
       "       284.31571372, 280.05494857, 209.67356213, 141.16279964,\n",
       "       322.81737461, 191.06188767, 278.6040736 , 258.76647675,\n",
       "       269.51609745, 359.52731159, 246.48771236, 170.79099016,\n",
       "       190.44369657, 233.09088361, 363.26670489, 173.41167474,\n",
       "       292.38918139, 379.61330565, 202.94741353, 189.79898199,\n",
       "       262.22722618, 314.74390694, 299.43703643, 280.16216225,\n",
       "       222.50766821, 306.68154342, 200.40872086, 279.16679627,\n",
       "       200.21579208, 189.74351355, 298.8453688 , 130.2387353 ,\n",
       "       322.82847877, 170.79099016, 194.86348604, 256.62652293,\n",
       "       197.59510749, 261.12830431, 382.70426118, 326.36011594,\n",
       "       254.40215572, 213.97933589, 266.11081646, 219.10238722,\n",
       "       177.26874154, 194.86348604, 211.16572253, 270.58607436,\n",
       "       170.79099016, 185.51665286, 257.13377717, 242.43771679,\n",
       "       180.50761724, 204.21031922, 345.15425936, 388.68650682,\n",
       "       319.35662518, 194.7260257 , 255.02034682, 208.43717992,\n",
       "       267.4026671 , 299.22626685, 211.92445282, 197.59510749,\n",
       "       245.86952126, 290.53460807, 306.68154342, 218.96184803,\n",
       "       267.99433473, 397.46015751, 188.24827431, 183.26576217,\n",
       "       242.69349498, 167.92190836, 284.82296796, 241.06079539,\n",
       "       182.75850793, 317.50205187, 182.14031682, 282.01673557,\n",
       "       301.29160975, 226.25379815, 251.02581968, 227.49018036,\n",
       "       211.30626171, 236.14855284, 285.33760317, 208.51917183,\n",
       "       308.60700449, 187.12282897, 333.19720141, 246.48771236,\n",
       "       309.62151297, 194.7260257 , 236.41175121, 191.99440424,\n",
       "       191.99440424, 265.52157031, 337.64351435, 260.00285897,\n",
       "       289.91641697, 221.88947711, 272.44064768, 232.67300226,\n",
       "       325.57551954, 182.3332456 , 314.20770774, 267.37614362,\n",
       "       215.67058275, 313.62956575, 313.58951663, 287.02577119,\n",
       "       211.92445282, 322.81737461, 211.92445282,  81.64998305,\n",
       "       189.74351355, 254.32016381, 349.62147892, 302.65807132,\n",
       "       339.00867423, 210.68807061, 271.87792501, 248.80145247,\n",
       "       328.66647507, 206.32374957, 354.1232603 , 261.60903507,\n",
       "       172.2862294 , 226.25379815, 165.2605565 , 220.6530949 ,\n",
       "       222.90398559, 197.59510749, 304.8269701 , 217.97694188,\n",
       "       280.26571814, 270.02335169, 219.10238722, 236.83701354,\n",
       "       196.35872528, 261.74649542, 290.53460807, 226.87198925,\n",
       "       251.64401079, 324.87291504, 309.76139479, 272.44064768,\n",
       "       151.70100642, 299.99733762, 266.64701565, 352.07203503,\n",
       "       188.24827431, 280.26571814, 258.82194519, 315.93592487,\n",
       "       202.02969812, 112.44060221, 240.77607225, 266.22175332,\n",
       "       216.90696496, 324.87291504, 218.53966455, 326.10929725,\n",
       "       242.18624074, 220.6530949 , 167.41465412, 188.24827431,\n",
       "       318.28664827, 244.80692532, 227.49018036, 266.27722176,\n",
       "       205.70555846, 297.3162251 , 304.208779  , 284.93390482,\n",
       "       277.47862826, 265.65903065, 159.86692582, 191.99440424,\n",
       "       221.271286  , 204.07285888, 312.49301625, 282.12029146,\n",
       "       190.44369657, 305.68245426, 210.68807061, 199.22780708,\n",
       "       222.90398559, 285.89294487, 175.52510509, 209.75555404,\n",
       "       202.94741353, 208.51917183, 221.88947711, 218.59513298,\n",
       "       142.09531621, 344.47929812, 371.50657786, 228.56015727,\n",
       "       357.05454717, 221.88947711, 205.70555846, 260.62105007,\n",
       "       147.35148654, 295.65458056, 187.12282897, 251.02581968,\n",
       "       171.77897516, 181.01487148, 219.10238722, 276.80496872,\n",
       "       166.79646302, 291.09733075, 296.41265349, 259.44013629,\n",
       "       290.47913964, 204.69104998, 263.46360839, 254.40215572,\n",
       "       211.30626171, 201.34123742, 338.42811076, 324.87291504,\n",
       "       167.41465412, 325.49110615, 345.66151359, 297.15720078,\n",
       "       237.6555144 , 368.44214581, 217.92147344, 313.62956575,\n",
       "       252.60305083, 246.04330754, 273.00337035, 248.29419823,\n",
       "       238.07339575, 244.68860748, 222.50766821, 269.51609745,\n",
       "       303.82788094, 278.71501047, 277.42315982, 357.67273828,\n",
       "       306.21623197, 315.86935228, 296.53900967, 209.05537102,\n",
       "       182.75850793, 243.0559079 , 326.72748836, 346.2797047 ,\n",
       "       201.9039601 , 253.22124194, 348.97434286, 261.60903507,\n",
       "       267.34719867, 253.27671037, 270.58607436, 217.72546582,\n",
       "       313.56057168, 306.27412189, 261.74649542, 243.0559079 ,\n",
       "       407.65379217, 228.50468884, 172.90442051, 268.44612054,\n",
       "       257.13377717, 276.80496872, 272.44064768, 232.4726925 ,\n",
       "       219.69405485, 350.79128854, 282.4611404 , 197.59510749,\n",
       "       234.66811476, 363.26670489, 280.05494857, 221.271286  ,\n",
       "       268.44612054, 322.1991835 , 187.6300832 , 309.11425873,\n",
       "       358.29092938, 236.39260871, 235.28630586, 251.12937557,\n",
       "       309.04337098, 243.0559079 , 266.83994443, 291.09733075,\n",
       "       231.1660407 , 249.41964357, 216.28877386, 232.67300226,\n",
       "       321.10026163, 317.07678954, 195.3442168 , 319.97481629,\n",
       "       224.1403678 , 280.88390925, 209.75555404, 265.60356222,\n",
       "       267.4026671 , 253.27671037, 222.34126291, 255.02034682,\n",
       "       208.57464026, 233.54266941, 232.92447831, 306.91883647,\n",
       "       192.61259535, 295.20279475, 318.65402069, 239.82441318,\n",
       "       188.61806821, 315.3732022 , 264.92990268, 357.05454717,\n",
       "       284.14930842, 283.64205418, 200.40872086, 260.99084397,\n",
       "       227.49018036, 249.78943747, 301.29160975, 150.59036223,\n",
       "       161.51442657, 267.34719867, 181.01487148, 236.83701354,\n",
       "       280.88390925, 226.25379815, 238.69158686, 211.30626171,\n",
       "       352.50166488, 306.13424007, 287.61743882, 255.49369661,\n",
       "       107.76195571, 334.18276493, 309.73244983, 279.4922259 ,\n",
       "       259.32919943, 270.58607436, 240.51287388, 169.62487754,\n",
       "       177.35073345, 194.80801761, 185.37919251, 260.0583274 ,\n",
       "       220.6530949 , 210.68807061, 252.65851927, 225.32128158,\n",
       "       243.87440876, 266.83994443, 315.84040732, 197.59510749,\n",
       "       309.62151297, 337.69898279, 244.80692532, 298.94892469,\n",
       "       234.10539209, 295.46903276, 266.13976141, 191.48715   ,\n",
       "       248.29419823, 194.86348604, 221.88947711, 301.42168911,\n",
       "       227.94196616, 211.92445282, 221.88947711, 193.60058035,\n",
       "       131.1305846 , 221.88947711, 183.88395327, 192.98238925,\n",
       "       235.28630586, 265.04083954, 195.85147104, 192.61259535,\n",
       "       306.13424007, 130.85692641, 202.8919451 , 234.22370993,\n",
       "       238.52518156, 306.00788388, 259.37728688, 219.72057833,\n",
       "       257.24471404, 337.58804592, 253.1657735 , 306.30064537,\n",
       "       292.33371296, 402.05308892, 279.78498738, 275.283206  ,\n",
       "       278.54860517, 368.83716148, 299.43703643, 260.0583274 ,\n",
       "       205.70555846, 240.44260429, 310.3795859 , 332.5790103 ,\n",
       "       254.45762415, 253.89490148, 201.95942853, 233.09088361,\n",
       "       211.30626171, 265.15177641, 265.49262535, 262.22722618,\n",
       "       325.17920217, 283.07933151, 266.83994443, 248.18326136,\n",
       "       232.67300226, 271.36328979, 307.00324986, 356.43635606,\n",
       "       297.15720078, 266.83994443, 300.67341864, 231.8545014 ,\n",
       "       239.82441318, 215.67058275, 365.01034134, 184.87193827,\n",
       "       216.90696496, 224.1403678 , 224.70309047, 298.22717769,\n",
       "       239.6506269 , 194.10783459, 255.58306949, 219.63858642,\n",
       "       246.04330754, 188.61806821, 243.25621765, 208.99682375,\n",
       "       202.32922243, 283.02386307, 170.79099016, 224.70309047,\n",
       "       271.20426547, 253.83943304, 312.35313442, 172.34169783,\n",
       "       263.80445733, 311.87482514, 164.87596144, 185.99738362,\n",
       "       259.44013629, 307.37062228, 268.89790634, 236.35628278,\n",
       "       205.70555846, 247.16875288, 267.37614362, 278.71501047,\n",
       "       398.00309335, 194.24529493, 211.30626171, 236.39260871,\n",
       "       205.70555846, 268.44612054, 204.15485079, 275.76151528,\n",
       "       363.21123645, 138.34918627, 280.16216225, 244.68860748,\n",
       "       246.04330754, 185.37919251, 245.98045813, 213.5571524 ,\n",
       "       226.25379815, 205.70555846, 281.50210035, 226.87198925,\n",
       "       231.23631029, 226.25379815, 259.49560473, 277.42315982,\n",
       "       417.85917533, 191.99440424, 195.42620871, 228.78941198,\n",
       "        96.01631167, 172.90442051, 199.17233864, 313.56057168,\n",
       "       308.12869521, 192.98238925, 324.25472394, 200.40872086,\n",
       "       271.36328979, 311.87482514, 205.70555846, 218.34365693,\n",
       "       302.01335674, 240.26881801, 345.15425936, 205.70555846,\n",
       "       324.00939255, 257.64103141, 130.2387353 , 183.88395327,\n",
       "       251.02581968, 199.17233864, 151.13828375, 233.54266941,\n",
       "       304.97984976, 201.34123742, 250.40762857, 193.60058035,\n",
       "       300.77697453, 255.39014072, 256.00833182, 255.02034682,\n",
       "       299.22626685, 266.22175332, 210.68807061, 231.23631029,\n",
       "       214.17534351, 322.67749279, 303.43156357, 177.35073345,\n",
       "       226.87198925, 255.02034682, 216.90696496, 254.45762415,\n",
       "       238.69158686, 323.35115232, 225.32128158, 262.67901199,\n",
       "       211.30626171, 250.40762857, 352.88687809, 228.50468884,\n",
       "       307.98881338, 332.0428111 , 234.22370993, 190.8689589 ,\n",
       "       276.80496872, 317.07678954, 278.71501047, 156.2027878 ,\n",
       "       194.21877146, 368.21897037, 199.70853784, 270.75247966,\n",
       "       362.81491908, 176.65055044, 222.50766821, 227.49018036,\n",
       "       270.02335169, 199.09034673, 217.92147344, 207.87445724,\n",
       "       223.52217669, 325.49110615, 221.88947711, 314.34758956,\n",
       "       344.72899703, 254.40215572, 196.46966215, 195.23327994,\n",
       "       314.17876278, 362.81491908, 167.92190836, 241.06079539,\n",
       "       121.81395887, 355.19323721, 217.97694188, 197.59510749,\n",
       "       202.02969812, 130.85692641, 206.94194068, 194.21877146,\n",
       "       205.70555846, 200.88637278, 266.83994443, 200.83398319,\n",
       "       359.52731159, 282.38410799, 226.18352855, 258.76647675,\n",
       "       228.50468884, 216.90696496, 299.84445796, 329.73645198,\n",
       "        90.58201372, 408.19867405, 278.04135093, 356.93687366,\n",
       "       244.29229011, 193.60058035, 181.63306258, 175.09984276,\n",
       "       199.17233864, 173.41167474, 224.08489936, 332.94638272,\n",
       "       267.99433473, 222.50766821, 201.34123742, 283.07933151,\n",
       "       217.72546582, 263.29720309, 224.1403678 , 247.67600712,\n",
       "       190.8689589 , 229.12287994, 322.81737461, 247.16875288,\n",
       "       340.06081034, 242.3674472 , 237.6555144 , 194.80801761,\n",
       "       271.71151971, 210.68807061, 339.11287446, 228.78941198,\n",
       "       234.66811476, 311.90134862, 266.27722176, 280.78035336,\n",
       "       176.08782776, 244.80692532, 194.7260257 , 291.09733075,\n",
       "       195.23327994, 271.76698814, 211.30626171, 297.3162251 ,\n",
       "       190.44369657, 221.271286  , 257.64103141, 270.64154279,\n",
       "       273.42863268, 215.67058275, 267.34719867, 220.6530949 ,\n",
       "       221.271286  , 188.24827431, 179.51963223, 254.45762415,\n",
       "       196.35872528, 257.24471404, 304.77150167, 206.94194068,\n",
       "       205.70555846, 209.75555404, 314.20770774, 323.32462885,\n",
       "       312.51953972, 273.42863268, 277.42315982, 219.02039531,\n",
       "       260.0583274 , 289.70192421, 176.70601887, 144.90892957,\n",
       "       298.81884532, 272.94790192, 244.91048121, 190.8689589 ,\n",
       "       257.64103141, 206.94194068, 218.96184803, 256.00833182,\n",
       "       172.34169783, 221.88947711, 382.70426118, 195.85147104,\n",
       "       251.52569294, 315.98028915, 206.94194068, 199.09034673,\n",
       "       237.71098283, 206.94194068, 278.71501047, 302.01335674,\n",
       "       289.70192421, 206.32374957, 220.6530949 , 297.0308446 ,\n",
       "       309.53952106, 306.27412189, 166.42666912, 196.35872528,\n",
       "       243.0559079 , 191.48715   , 316.60958441, 287.12932708,\n",
       "       277.58956512, 267.34719867, 181.63306258, 374.43786473])"
      ]
     },
     "execution_count": 156,
     "metadata": {},
     "output_type": "execute_result"
    }
   ],
   "source": [
    "pred_test = model_fit.predict(x_test)\n",
    "pred_test"
   ]
  },
  {
   "cell_type": "code",
   "execution_count": 157,
   "id": "a3595994",
   "metadata": {},
   "outputs": [
    {
     "name": "stdout",
     "output_type": "stream",
     "text": [
      "r2 score of predicted test model is :  0.88\n",
      "MAE is :  12.2\n",
      "MSE is :  376.4\n",
      "RMSE is :  19.4\n"
     ]
    }
   ],
   "source": [
    "print(\"r2 score of predicted test model is : \", round(r2_score(pred_test, Y_test), 2))\n",
    "print(\"MAE is : \", round(mean_absolute_error(pred_test, Y_test),2))\n",
    "print(\"MSE is : \", round(mean_squared_error(pred_test, Y_test),2))\n",
    "print(\"RMSE is : \", round(sqrt(mean_squared_error(pred_test, Y_test)),2))"
   ]
  },
  {
   "cell_type": "code",
   "execution_count": 159,
   "id": "b49f069a",
   "metadata": {},
   "outputs": [
    {
     "name": "stderr",
     "output_type": "stream",
     "text": [
      "C:\\Users\\Rushikesh\\AppData\\Local\\anaconda3\\Lib\\site-packages\\sklearn\\base.py:464: UserWarning: X does not have valid feature names, but StandardScaler was fitted with feature names\n",
      "  warnings.warn(\n"
     ]
    },
    {
     "data": {
      "text/plain": [
       "array([219.54305584])"
      ]
     },
     "execution_count": 159,
     "metadata": {},
     "output_type": "execute_result"
    }
   ],
   "source": [
    "new_pred = model_fit.predict(scalar.transform([[3.5, 6, 9, 35 ]]))\n",
    "new_pred"
   ]
  },
  {
   "cell_type": "markdown",
   "id": "20f854ec",
   "metadata": {},
   "source": [
    "# Conclusion : Model is predicting with 85% accuracy with moderately skewed data. This model is fit to apply for future predictions."
   ]
  },
  {
   "cell_type": "code",
   "execution_count": null,
   "id": "93e4215a",
   "metadata": {},
   "outputs": [],
   "source": []
  },
  {
   "cell_type": "markdown",
   "id": "c192b587",
   "metadata": {},
   "source": [
    "# Regression plots"
   ]
  },
  {
   "cell_type": "code",
   "execution_count": 139,
   "id": "9de2deae",
   "metadata": {},
   "outputs": [
    {
     "data": {
      "text/plain": [
       "<Axes: xlabel='Engine_size', ylabel='CO2_emitted'>"
      ]
     },
     "execution_count": 139,
     "metadata": {},
     "output_type": "execute_result"
    },
    {
     "data": {
      "image/png": "[encoded data removed]",
      "text/plain": [
       "<Figure size 640x480 with 1 Axes>"
      ]
     },
     "metadata": {},
     "output_type": "display_data"
    }
   ],
   "source": [
    "sns.regplot(data = df , x = 'Engine_size', y = 'CO2_emitted')"
   ]
  },
  {
   "cell_type": "code",
   "execution_count": 140,
   "id": "8a98121d",
   "metadata": {},
   "outputs": [
    {
     "data": {
      "text/plain": [
       "<Axes: xlabel='Cylinders', ylabel='CO2_emitted'>"
      ]
     },
     "execution_count": 140,
     "metadata": {},
     "output_type": "execute_result"
    },
    {
     "data": {
      "image/png": "[encoded data removed]",
      "text/plain": [
       "<Figure size 640x480 with 1 Axes>"
      ]
     },
     "metadata": {},
     "output_type": "display_data"
    }
   ],
   "source": [
    "sns.regplot(data = df, x = 'Cylinders', y = 'CO2_emitted')"
   ]
  },
  {
   "cell_type": "code",
   "execution_count": 141,
   "id": "8780324e",
   "metadata": {},
   "outputs": [
    {
     "data": {
      "text/plain": [
       "<Axes: xlabel='Fuel_cons_comb', ylabel='CO2_emitted'>"
      ]
     },
     "execution_count": 141,
     "metadata": {},
     "output_type": "execute_result"
    },
    {
     "data": {
      "image/png": "[encoded data removed]",
      "text/plain": [
       "<Figure size 640x480 with 1 Axes>"
      ]
     },
     "metadata": {},
     "output_type": "display_data"
    }
   ],
   "source": [
    "sns.regplot(data = df, x = 'Fuel_cons_comb', y = \"CO2_emitted\")"
   ]
  },
  {
   "cell_type": "markdown",
   "id": "04186cc0",
   "metadata": {},
   "source": []
  },
  {
   "cell_type": "markdown",
   "id": "3d614fa2",
   "metadata": {},
   "source": [
    "# With 3 features without log transformation : Engine_size, Cylinders and Fuel_cons_comn r2 score was 85%"
   ]
  },
  {
   "cell_type": "markdown",
   "id": "8ac9fe72",
   "metadata": {},
   "source": [
    "# With 4 features without log transformation : Engine_size, Cylinders, Fuel_cons_comn and Fuel Consumption Comb (mpg) lets check r2 score : 88%"
   ]
  },
  {
   "cell_type": "code",
   "execution_count": null,
   "id": "d97cca29",
   "metadata": {},
   "outputs": [],
   "source": []
  }
 ],
 "metadata": {
  "kernelspec": {
   "display_name": "Python 3 (ipykernel)",
   "language": "python",
   "name": "python3"
  },
  "language_info": {
   "codemirror_mode": {
    "name": "ipython",
    "version": 3
   },
   "file_extension": ".py",
   "mimetype": "text/x-python",
   "name": "python",
   "nbconvert_exporter": "python",
   "pygments_lexer": "ipython3",
   "version": "3.11.5"
  }
 },
 "nbformat": 4,
 "nbformat_minor": 5
}
