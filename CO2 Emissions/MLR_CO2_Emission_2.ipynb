{
 "cells": [
  {
   "cell_type": "code",
   "execution_count": 190,
   "id": "b5bd5b33",
   "metadata": {},
   "outputs": [],
   "source": [
    "import import_ipynb\n",
    "\n",
    "import pandas as pd\n",
    "import numpy as np\n",
    "import seaborn as sns\n",
    "import matplotlib.pyplot as plt\n",
    "import plotly.express as px\n",
    "from math import sqrt\n",
    "from sklearn.model_selection import train_test_split\n",
    "from sklearn.linear_model import LinearRegression\n",
    "from sklearn.preprocessing import StandardScaler\n",
    "from sklearn.metrics import r2_score, mean_absolute_error, mean_squared_error"
   ]
  },
  {
   "cell_type": "code",
   "execution_count": 191,
   "id": "fe643e97",
   "metadata": {},
   "outputs": [],
   "source": [
    "from MLR_CO2_Emission_1 import co2_log, eng_log, cyl_log, fuel_log, fuel_mpg"
   ]
  },
  {
   "cell_type": "code",
   "execution_count": 192,
   "id": "2ac72834",
   "metadata": {},
   "outputs": [],
   "source": [
    "df2 = pd.DataFrame([eng_log, cyl_log, fuel_log, fuel_mpg, co2_log])"
   ]
  },
  {
   "cell_type": "code",
   "execution_count": 193,
   "id": "29cc1b31",
   "metadata": {},
   "outputs": [
    {
     "data": {
      "text/html": [
       "<div>\n",
       "<style scoped>\n",
       "    .dataframe tbody tr th:only-of-type {\n",
       "        vertical-align: middle;\n",
       "    }\n",
       "\n",
       "    .dataframe tbody tr th {\n",
       "        vertical-align: top;\n",
       "    }\n",
       "\n",
       "    .dataframe thead th {\n",
       "        text-align: right;\n",
       "    }\n",
       "</style>\n",
       "<table border=\"1\" class=\"dataframe\">\n",
       "  <thead>\n",
       "    <tr style=\"text-align: right;\">\n",
       "      <th></th>\n",
       "      <th>Engine_size</th>\n",
       "      <th>Cylinders</th>\n",
       "      <th>Fuel_cons_comb</th>\n",
       "      <th>Fuel Consumption Comb (mpg)</th>\n",
       "      <th>CO2_emitted</th>\n",
       "    </tr>\n",
       "  </thead>\n",
       "  <tbody>\n",
       "    <tr>\n",
       "      <th>0</th>\n",
       "      <td>0.693147</td>\n",
       "      <td>1.386294</td>\n",
       "      <td>2.140066</td>\n",
       "      <td>3.496508</td>\n",
       "      <td>5.278115</td>\n",
       "    </tr>\n",
       "    <tr>\n",
       "      <th>1</th>\n",
       "      <td>0.875469</td>\n",
       "      <td>1.386294</td>\n",
       "      <td>2.261763</td>\n",
       "      <td>3.367296</td>\n",
       "      <td>5.398163</td>\n",
       "    </tr>\n",
       "    <tr>\n",
       "      <th>2</th>\n",
       "      <td>0.405465</td>\n",
       "      <td>1.386294</td>\n",
       "      <td>1.774952</td>\n",
       "      <td>3.871201</td>\n",
       "      <td>4.912655</td>\n",
       "    </tr>\n",
       "    <tr>\n",
       "      <th>3</th>\n",
       "      <td>1.252763</td>\n",
       "      <td>1.791759</td>\n",
       "      <td>2.406945</td>\n",
       "      <td>3.218876</td>\n",
       "      <td>5.541264</td>\n",
       "    </tr>\n",
       "    <tr>\n",
       "      <th>4</th>\n",
       "      <td>1.252763</td>\n",
       "      <td>1.791759</td>\n",
       "      <td>2.360854</td>\n",
       "      <td>3.295837</td>\n",
       "      <td>5.497168</td>\n",
       "    </tr>\n",
       "    <tr>\n",
       "      <th>...</th>\n",
       "      <td>...</td>\n",
       "      <td>...</td>\n",
       "      <td>...</td>\n",
       "      <td>...</td>\n",
       "      <td>...</td>\n",
       "    </tr>\n",
       "    <tr>\n",
       "      <th>7375</th>\n",
       "      <td>0.693147</td>\n",
       "      <td>1.386294</td>\n",
       "      <td>2.261763</td>\n",
       "      <td>3.367296</td>\n",
       "      <td>5.407172</td>\n",
       "    </tr>\n",
       "    <tr>\n",
       "      <th>7379</th>\n",
       "      <td>0.693147</td>\n",
       "      <td>1.386294</td>\n",
       "      <td>2.197225</td>\n",
       "      <td>3.433987</td>\n",
       "      <td>5.347108</td>\n",
       "    </tr>\n",
       "    <tr>\n",
       "      <th>7380</th>\n",
       "      <td>0.693147</td>\n",
       "      <td>1.386294</td>\n",
       "      <td>2.240710</td>\n",
       "      <td>3.401197</td>\n",
       "      <td>5.389072</td>\n",
       "    </tr>\n",
       "    <tr>\n",
       "      <th>7382</th>\n",
       "      <td>0.693147</td>\n",
       "      <td>1.386294</td>\n",
       "      <td>2.332144</td>\n",
       "      <td>3.295837</td>\n",
       "      <td>5.480639</td>\n",
       "    </tr>\n",
       "    <tr>\n",
       "      <th>7384</th>\n",
       "      <td>0.693147</td>\n",
       "      <td>1.386294</td>\n",
       "      <td>2.370244</td>\n",
       "      <td>3.258097</td>\n",
       "      <td>5.513429</td>\n",
       "    </tr>\n",
       "  </tbody>\n",
       "</table>\n",
       "<p>4360 rows × 5 columns</p>\n",
       "</div>"
      ],
      "text/plain": [
       "      Engine_size  Cylinders  Fuel_cons_comb  Fuel Consumption Comb (mpg)  \\\n",
       "0        0.693147   1.386294        2.140066                     3.496508   \n",
       "1        0.875469   1.386294        2.261763                     3.367296   \n",
       "2        0.405465   1.386294        1.774952                     3.871201   \n",
       "3        1.252763   1.791759        2.406945                     3.218876   \n",
       "4        1.252763   1.791759        2.360854                     3.295837   \n",
       "...           ...        ...             ...                          ...   \n",
       "7375     0.693147   1.386294        2.261763                     3.367296   \n",
       "7379     0.693147   1.386294        2.197225                     3.433987   \n",
       "7380     0.693147   1.386294        2.240710                     3.401197   \n",
       "7382     0.693147   1.386294        2.332144                     3.295837   \n",
       "7384     0.693147   1.386294        2.370244                     3.258097   \n",
       "\n",
       "      CO2_emitted  \n",
       "0        5.278115  \n",
       "1        5.398163  \n",
       "2        4.912655  \n",
       "3        5.541264  \n",
       "4        5.497168  \n",
       "...           ...  \n",
       "7375     5.407172  \n",
       "7379     5.347108  \n",
       "7380     5.389072  \n",
       "7382     5.480639  \n",
       "7384     5.513429  \n",
       "\n",
       "[4360 rows x 5 columns]"
      ]
     },
     "execution_count": 193,
     "metadata": {},
     "output_type": "execute_result"
    }
   ],
   "source": [
    "df3 = df2.transpose()\n",
    "df3"
   ]
  },
  {
   "cell_type": "code",
   "execution_count": 194,
   "id": "867ad36d",
   "metadata": {},
   "outputs": [
    {
     "data": {
      "text/html": [
       "<style>#sk-container-id-20 {color: black;}#sk-container-id-20 pre{padding: 0;}#sk-container-id-20 div.sk-toggleable {background-color: white;}#sk-container-id-20 label.sk-toggleable__label {cursor: pointer;display: block;width: 100%;margin-bottom: 0;padding: 0.3em;box-sizing: border-box;text-align: center;}#sk-container-id-20 label.sk-toggleable__label-arrow:before {content: \"▸\";float: left;margin-right: 0.25em;color: #696969;}#sk-container-id-20 label.sk-toggleable__label-arrow:hover:before {color: black;}#sk-container-id-20 div.sk-estimator:hover label.sk-toggleable__label-arrow:before {color: black;}#sk-container-id-20 div.sk-toggleable__content {max-height: 0;max-width: 0;overflow: hidden;text-align: left;background-color: #f0f8ff;}#sk-container-id-20 div.sk-toggleable__content pre {margin: 0.2em;color: black;border-radius: 0.25em;background-color: #f0f8ff;}#sk-container-id-20 input.sk-toggleable__control:checked~div.sk-toggleable__content {max-height: 200px;max-width: 100%;overflow: auto;}#sk-container-id-20 input.sk-toggleable__control:checked~label.sk-toggleable__label-arrow:before {content: \"▾\";}#sk-container-id-20 div.sk-estimator input.sk-toggleable__control:checked~label.sk-toggleable__label {background-color: #d4ebff;}#sk-container-id-20 div.sk-label input.sk-toggleable__control:checked~label.sk-toggleable__label {background-color: #d4ebff;}#sk-container-id-20 input.sk-hidden--visually {border: 0;clip: rect(1px 1px 1px 1px);clip: rect(1px, 1px, 1px, 1px);height: 1px;margin: -1px;overflow: hidden;padding: 0;position: absolute;width: 1px;}#sk-container-id-20 div.sk-estimator {font-family: monospace;background-color: #f0f8ff;border: 1px dotted black;border-radius: 0.25em;box-sizing: border-box;margin-bottom: 0.5em;}#sk-container-id-20 div.sk-estimator:hover {background-color: #d4ebff;}#sk-container-id-20 div.sk-parallel-item::after {content: \"\";width: 100%;border-bottom: 1px solid gray;flex-grow: 1;}#sk-container-id-20 div.sk-label:hover label.sk-toggleable__label {background-color: #d4ebff;}#sk-container-id-20 div.sk-serial::before {content: \"\";position: absolute;border-left: 1px solid gray;box-sizing: border-box;top: 0;bottom: 0;left: 50%;z-index: 0;}#sk-container-id-20 div.sk-serial {display: flex;flex-direction: column;align-items: center;background-color: white;padding-right: 0.2em;padding-left: 0.2em;position: relative;}#sk-container-id-20 div.sk-item {position: relative;z-index: 1;}#sk-container-id-20 div.sk-parallel {display: flex;align-items: stretch;justify-content: center;background-color: white;position: relative;}#sk-container-id-20 div.sk-item::before, #sk-container-id-20 div.sk-parallel-item::before {content: \"\";position: absolute;border-left: 1px solid gray;box-sizing: border-box;top: 0;bottom: 0;left: 50%;z-index: -1;}#sk-container-id-20 div.sk-parallel-item {display: flex;flex-direction: column;z-index: 1;position: relative;background-color: white;}#sk-container-id-20 div.sk-parallel-item:first-child::after {align-self: flex-end;width: 50%;}#sk-container-id-20 div.sk-parallel-item:last-child::after {align-self: flex-start;width: 50%;}#sk-container-id-20 div.sk-parallel-item:only-child::after {width: 0;}#sk-container-id-20 div.sk-dashed-wrapped {border: 1px dashed gray;margin: 0 0.4em 0.5em 0.4em;box-sizing: border-box;padding-bottom: 0.4em;background-color: white;}#sk-container-id-20 div.sk-label label {font-family: monospace;font-weight: bold;display: inline-block;line-height: 1.2em;}#sk-container-id-20 div.sk-label-container {text-align: center;}#sk-container-id-20 div.sk-container {/* jupyter's `normalize.less` sets `[hidden] { display: none; }` but bootstrap.min.css set `[hidden] { display: none !important; }` so we also need the `!important` here to be able to override the default hidden behavior on the sphinx rendered scikit-learn.org. See: https://github.com/scikit-learn/scikit-learn/issues/21755 */display: inline-block !important;position: relative;}#sk-container-id-20 div.sk-text-repr-fallback {display: none;}</style><div id=\"sk-container-id-20\" class=\"sk-top-container\"><div class=\"sk-text-repr-fallback\"><pre>StandardScaler()</pre><b>In a Jupyter environment, please rerun this cell to show the HTML representation or trust the notebook. <br />On GitHub, the HTML representation is unable to render, please try loading this page with nbviewer.org.</b></div><div class=\"sk-container\" hidden><div class=\"sk-item\"><div class=\"sk-estimator sk-toggleable\"><input class=\"sk-toggleable__control sk-hidden--visually\" id=\"sk-estimator-id-20\" type=\"checkbox\" checked><label for=\"sk-estimator-id-20\" class=\"sk-toggleable__label sk-toggleable__label-arrow\">StandardScaler</label><div class=\"sk-toggleable__content\"><pre>StandardScaler()</pre></div></div></div></div></div>"
      ],
      "text/plain": [
       "StandardScaler()"
      ]
     },
     "execution_count": 194,
     "metadata": {},
     "output_type": "execute_result"
    }
   ],
   "source": [
    "scalar = StandardScaler()\n",
    "scalar"
   ]
  },
  {
   "cell_type": "code",
   "execution_count": 195,
   "id": "e7405bed",
   "metadata": {},
   "outputs": [
    {
     "data": {
      "text/html": [
       "<div>\n",
       "<style scoped>\n",
       "    .dataframe tbody tr th:only-of-type {\n",
       "        vertical-align: middle;\n",
       "    }\n",
       "\n",
       "    .dataframe tbody tr th {\n",
       "        vertical-align: top;\n",
       "    }\n",
       "\n",
       "    .dataframe thead th {\n",
       "        text-align: right;\n",
       "    }\n",
       "</style>\n",
       "<table border=\"1\" class=\"dataframe\">\n",
       "  <thead>\n",
       "    <tr style=\"text-align: right;\">\n",
       "      <th></th>\n",
       "      <th>Engine_size</th>\n",
       "      <th>Cylinders</th>\n",
       "      <th>Fuel_cons_comb</th>\n",
       "      <th>Fuel Consumption Comb (mpg)</th>\n",
       "    </tr>\n",
       "  </thead>\n",
       "  <tbody>\n",
       "    <tr>\n",
       "      <th>0</th>\n",
       "      <td>0.693147</td>\n",
       "      <td>1.386294</td>\n",
       "      <td>2.140066</td>\n",
       "      <td>3.496508</td>\n",
       "    </tr>\n",
       "    <tr>\n",
       "      <th>1</th>\n",
       "      <td>0.875469</td>\n",
       "      <td>1.386294</td>\n",
       "      <td>2.261763</td>\n",
       "      <td>3.367296</td>\n",
       "    </tr>\n",
       "    <tr>\n",
       "      <th>2</th>\n",
       "      <td>0.405465</td>\n",
       "      <td>1.386294</td>\n",
       "      <td>1.774952</td>\n",
       "      <td>3.871201</td>\n",
       "    </tr>\n",
       "    <tr>\n",
       "      <th>3</th>\n",
       "      <td>1.252763</td>\n",
       "      <td>1.791759</td>\n",
       "      <td>2.406945</td>\n",
       "      <td>3.218876</td>\n",
       "    </tr>\n",
       "    <tr>\n",
       "      <th>4</th>\n",
       "      <td>1.252763</td>\n",
       "      <td>1.791759</td>\n",
       "      <td>2.360854</td>\n",
       "      <td>3.295837</td>\n",
       "    </tr>\n",
       "    <tr>\n",
       "      <th>...</th>\n",
       "      <td>...</td>\n",
       "      <td>...</td>\n",
       "      <td>...</td>\n",
       "      <td>...</td>\n",
       "    </tr>\n",
       "    <tr>\n",
       "      <th>7375</th>\n",
       "      <td>0.693147</td>\n",
       "      <td>1.386294</td>\n",
       "      <td>2.261763</td>\n",
       "      <td>3.367296</td>\n",
       "    </tr>\n",
       "    <tr>\n",
       "      <th>7379</th>\n",
       "      <td>0.693147</td>\n",
       "      <td>1.386294</td>\n",
       "      <td>2.197225</td>\n",
       "      <td>3.433987</td>\n",
       "    </tr>\n",
       "    <tr>\n",
       "      <th>7380</th>\n",
       "      <td>0.693147</td>\n",
       "      <td>1.386294</td>\n",
       "      <td>2.240710</td>\n",
       "      <td>3.401197</td>\n",
       "    </tr>\n",
       "    <tr>\n",
       "      <th>7382</th>\n",
       "      <td>0.693147</td>\n",
       "      <td>1.386294</td>\n",
       "      <td>2.332144</td>\n",
       "      <td>3.295837</td>\n",
       "    </tr>\n",
       "    <tr>\n",
       "      <th>7384</th>\n",
       "      <td>0.693147</td>\n",
       "      <td>1.386294</td>\n",
       "      <td>2.370244</td>\n",
       "      <td>3.258097</td>\n",
       "    </tr>\n",
       "  </tbody>\n",
       "</table>\n",
       "<p>4360 rows × 4 columns</p>\n",
       "</div>"
      ],
      "text/plain": [
       "      Engine_size  Cylinders  Fuel_cons_comb  Fuel Consumption Comb (mpg)\n",
       "0        0.693147   1.386294        2.140066                     3.496508\n",
       "1        0.875469   1.386294        2.261763                     3.367296\n",
       "2        0.405465   1.386294        1.774952                     3.871201\n",
       "3        1.252763   1.791759        2.406945                     3.218876\n",
       "4        1.252763   1.791759        2.360854                     3.295837\n",
       "...           ...        ...             ...                          ...\n",
       "7375     0.693147   1.386294        2.261763                     3.367296\n",
       "7379     0.693147   1.386294        2.197225                     3.433987\n",
       "7380     0.693147   1.386294        2.240710                     3.401197\n",
       "7382     0.693147   1.386294        2.332144                     3.295837\n",
       "7384     0.693147   1.386294        2.370244                     3.258097\n",
       "\n",
       "[4360 rows x 4 columns]"
      ]
     },
     "execution_count": 195,
     "metadata": {},
     "output_type": "execute_result"
    }
   ],
   "source": [
    "X = df3[['Engine_size', 'Cylinders', 'Fuel_cons_comb', \"Fuel Consumption Comb (mpg)\"]]\n",
    "X"
   ]
  },
  {
   "cell_type": "code",
   "execution_count": 196,
   "id": "90a46ddf",
   "metadata": {},
   "outputs": [
    {
     "data": {
      "text/plain": [
       "0       5.278115\n",
       "1       5.398163\n",
       "2       4.912655\n",
       "3       5.541264\n",
       "4       5.497168\n",
       "          ...   \n",
       "7375    5.407172\n",
       "7379    5.347108\n",
       "7380    5.389072\n",
       "7382    5.480639\n",
       "7384    5.513429\n",
       "Name: CO2_emitted, Length: 4360, dtype: float64"
      ]
     },
     "execution_count": 196,
     "metadata": {},
     "output_type": "execute_result"
    }
   ],
   "source": [
    "Y = df3['CO2_emitted']\n",
    "Y"
   ]
  },
  {
   "cell_type": "code",
   "execution_count": 197,
   "id": "c2b396c8",
   "metadata": {},
   "outputs": [],
   "source": [
    "X_train, X_test, Y_train, Y_test = train_test_split(X, Y, train_size = 0.8, random_state=1235)"
   ]
  },
  {
   "cell_type": "code",
   "execution_count": 198,
   "id": "1848f068",
   "metadata": {},
   "outputs": [
    {
     "name": "stdout",
     "output_type": "stream",
     "text": [
      "(3488, 4) (3488,)\n",
      "(872, 4) (872,)\n"
     ]
    }
   ],
   "source": [
    "print(X_train.shape, Y_train.shape)\n",
    "print(X_test.shape, Y_test.shape)"
   ]
  },
  {
   "cell_type": "code",
   "execution_count": 199,
   "id": "6a49324b",
   "metadata": {},
   "outputs": [],
   "source": [
    "x_train = scalar.fit_transform(X_train)\n",
    "x_test = scalar.transform(X_test)"
   ]
  },
  {
   "cell_type": "code",
   "execution_count": 200,
   "id": "75939d48",
   "metadata": {},
   "outputs": [
    {
     "data": {
      "text/html": [
       "<style>#sk-container-id-21 {color: black;}#sk-container-id-21 pre{padding: 0;}#sk-container-id-21 div.sk-toggleable {background-color: white;}#sk-container-id-21 label.sk-toggleable__label {cursor: pointer;display: block;width: 100%;margin-bottom: 0;padding: 0.3em;box-sizing: border-box;text-align: center;}#sk-container-id-21 label.sk-toggleable__label-arrow:before {content: \"▸\";float: left;margin-right: 0.25em;color: #696969;}#sk-container-id-21 label.sk-toggleable__label-arrow:hover:before {color: black;}#sk-container-id-21 div.sk-estimator:hover label.sk-toggleable__label-arrow:before {color: black;}#sk-container-id-21 div.sk-toggleable__content {max-height: 0;max-width: 0;overflow: hidden;text-align: left;background-color: #f0f8ff;}#sk-container-id-21 div.sk-toggleable__content pre {margin: 0.2em;color: black;border-radius: 0.25em;background-color: #f0f8ff;}#sk-container-id-21 input.sk-toggleable__control:checked~div.sk-toggleable__content {max-height: 200px;max-width: 100%;overflow: auto;}#sk-container-id-21 input.sk-toggleable__control:checked~label.sk-toggleable__label-arrow:before {content: \"▾\";}#sk-container-id-21 div.sk-estimator input.sk-toggleable__control:checked~label.sk-toggleable__label {background-color: #d4ebff;}#sk-container-id-21 div.sk-label input.sk-toggleable__control:checked~label.sk-toggleable__label {background-color: #d4ebff;}#sk-container-id-21 input.sk-hidden--visually {border: 0;clip: rect(1px 1px 1px 1px);clip: rect(1px, 1px, 1px, 1px);height: 1px;margin: -1px;overflow: hidden;padding: 0;position: absolute;width: 1px;}#sk-container-id-21 div.sk-estimator {font-family: monospace;background-color: #f0f8ff;border: 1px dotted black;border-radius: 0.25em;box-sizing: border-box;margin-bottom: 0.5em;}#sk-container-id-21 div.sk-estimator:hover {background-color: #d4ebff;}#sk-container-id-21 div.sk-parallel-item::after {content: \"\";width: 100%;border-bottom: 1px solid gray;flex-grow: 1;}#sk-container-id-21 div.sk-label:hover label.sk-toggleable__label {background-color: #d4ebff;}#sk-container-id-21 div.sk-serial::before {content: \"\";position: absolute;border-left: 1px solid gray;box-sizing: border-box;top: 0;bottom: 0;left: 50%;z-index: 0;}#sk-container-id-21 div.sk-serial {display: flex;flex-direction: column;align-items: center;background-color: white;padding-right: 0.2em;padding-left: 0.2em;position: relative;}#sk-container-id-21 div.sk-item {position: relative;z-index: 1;}#sk-container-id-21 div.sk-parallel {display: flex;align-items: stretch;justify-content: center;background-color: white;position: relative;}#sk-container-id-21 div.sk-item::before, #sk-container-id-21 div.sk-parallel-item::before {content: \"\";position: absolute;border-left: 1px solid gray;box-sizing: border-box;top: 0;bottom: 0;left: 50%;z-index: -1;}#sk-container-id-21 div.sk-parallel-item {display: flex;flex-direction: column;z-index: 1;position: relative;background-color: white;}#sk-container-id-21 div.sk-parallel-item:first-child::after {align-self: flex-end;width: 50%;}#sk-container-id-21 div.sk-parallel-item:last-child::after {align-self: flex-start;width: 50%;}#sk-container-id-21 div.sk-parallel-item:only-child::after {width: 0;}#sk-container-id-21 div.sk-dashed-wrapped {border: 1px dashed gray;margin: 0 0.4em 0.5em 0.4em;box-sizing: border-box;padding-bottom: 0.4em;background-color: white;}#sk-container-id-21 div.sk-label label {font-family: monospace;font-weight: bold;display: inline-block;line-height: 1.2em;}#sk-container-id-21 div.sk-label-container {text-align: center;}#sk-container-id-21 div.sk-container {/* jupyter's `normalize.less` sets `[hidden] { display: none; }` but bootstrap.min.css set `[hidden] { display: none !important; }` so we also need the `!important` here to be able to override the default hidden behavior on the sphinx rendered scikit-learn.org. See: https://github.com/scikit-learn/scikit-learn/issues/21755 */display: inline-block !important;position: relative;}#sk-container-id-21 div.sk-text-repr-fallback {display: none;}</style><div id=\"sk-container-id-21\" class=\"sk-top-container\"><div class=\"sk-text-repr-fallback\"><pre>LinearRegression()</pre><b>In a Jupyter environment, please rerun this cell to show the HTML representation or trust the notebook. <br />On GitHub, the HTML representation is unable to render, please try loading this page with nbviewer.org.</b></div><div class=\"sk-container\" hidden><div class=\"sk-item\"><div class=\"sk-estimator sk-toggleable\"><input class=\"sk-toggleable__control sk-hidden--visually\" id=\"sk-estimator-id-21\" type=\"checkbox\" checked><label for=\"sk-estimator-id-21\" class=\"sk-toggleable__label sk-toggleable__label-arrow\">LinearRegression</label><div class=\"sk-toggleable__content\"><pre>LinearRegression()</pre></div></div></div></div></div>"
      ],
      "text/plain": [
       "LinearRegression()"
      ]
     },
     "execution_count": 200,
     "metadata": {},
     "output_type": "execute_result"
    }
   ],
   "source": [
    "model = LinearRegression()\n",
    "model"
   ]
  },
  {
   "cell_type": "code",
   "execution_count": 201,
   "id": "e9ae6751",
   "metadata": {},
   "outputs": [
    {
     "data": {
      "text/html": [
       "<style>#sk-container-id-22 {color: black;}#sk-container-id-22 pre{padding: 0;}#sk-container-id-22 div.sk-toggleable {background-color: white;}#sk-container-id-22 label.sk-toggleable__label {cursor: pointer;display: block;width: 100%;margin-bottom: 0;padding: 0.3em;box-sizing: border-box;text-align: center;}#sk-container-id-22 label.sk-toggleable__label-arrow:before {content: \"▸\";float: left;margin-right: 0.25em;color: #696969;}#sk-container-id-22 label.sk-toggleable__label-arrow:hover:before {color: black;}#sk-container-id-22 div.sk-estimator:hover label.sk-toggleable__label-arrow:before {color: black;}#sk-container-id-22 div.sk-toggleable__content {max-height: 0;max-width: 0;overflow: hidden;text-align: left;background-color: #f0f8ff;}#sk-container-id-22 div.sk-toggleable__content pre {margin: 0.2em;color: black;border-radius: 0.25em;background-color: #f0f8ff;}#sk-container-id-22 input.sk-toggleable__control:checked~div.sk-toggleable__content {max-height: 200px;max-width: 100%;overflow: auto;}#sk-container-id-22 input.sk-toggleable__control:checked~label.sk-toggleable__label-arrow:before {content: \"▾\";}#sk-container-id-22 div.sk-estimator input.sk-toggleable__control:checked~label.sk-toggleable__label {background-color: #d4ebff;}#sk-container-id-22 div.sk-label input.sk-toggleable__control:checked~label.sk-toggleable__label {background-color: #d4ebff;}#sk-container-id-22 input.sk-hidden--visually {border: 0;clip: rect(1px 1px 1px 1px);clip: rect(1px, 1px, 1px, 1px);height: 1px;margin: -1px;overflow: hidden;padding: 0;position: absolute;width: 1px;}#sk-container-id-22 div.sk-estimator {font-family: monospace;background-color: #f0f8ff;border: 1px dotted black;border-radius: 0.25em;box-sizing: border-box;margin-bottom: 0.5em;}#sk-container-id-22 div.sk-estimator:hover {background-color: #d4ebff;}#sk-container-id-22 div.sk-parallel-item::after {content: \"\";width: 100%;border-bottom: 1px solid gray;flex-grow: 1;}#sk-container-id-22 div.sk-label:hover label.sk-toggleable__label {background-color: #d4ebff;}#sk-container-id-22 div.sk-serial::before {content: \"\";position: absolute;border-left: 1px solid gray;box-sizing: border-box;top: 0;bottom: 0;left: 50%;z-index: 0;}#sk-container-id-22 div.sk-serial {display: flex;flex-direction: column;align-items: center;background-color: white;padding-right: 0.2em;padding-left: 0.2em;position: relative;}#sk-container-id-22 div.sk-item {position: relative;z-index: 1;}#sk-container-id-22 div.sk-parallel {display: flex;align-items: stretch;justify-content: center;background-color: white;position: relative;}#sk-container-id-22 div.sk-item::before, #sk-container-id-22 div.sk-parallel-item::before {content: \"\";position: absolute;border-left: 1px solid gray;box-sizing: border-box;top: 0;bottom: 0;left: 50%;z-index: -1;}#sk-container-id-22 div.sk-parallel-item {display: flex;flex-direction: column;z-index: 1;position: relative;background-color: white;}#sk-container-id-22 div.sk-parallel-item:first-child::after {align-self: flex-end;width: 50%;}#sk-container-id-22 div.sk-parallel-item:last-child::after {align-self: flex-start;width: 50%;}#sk-container-id-22 div.sk-parallel-item:only-child::after {width: 0;}#sk-container-id-22 div.sk-dashed-wrapped {border: 1px dashed gray;margin: 0 0.4em 0.5em 0.4em;box-sizing: border-box;padding-bottom: 0.4em;background-color: white;}#sk-container-id-22 div.sk-label label {font-family: monospace;font-weight: bold;display: inline-block;line-height: 1.2em;}#sk-container-id-22 div.sk-label-container {text-align: center;}#sk-container-id-22 div.sk-container {/* jupyter's `normalize.less` sets `[hidden] { display: none; }` but bootstrap.min.css set `[hidden] { display: none !important; }` so we also need the `!important` here to be able to override the default hidden behavior on the sphinx rendered scikit-learn.org. See: https://github.com/scikit-learn/scikit-learn/issues/21755 */display: inline-block !important;position: relative;}#sk-container-id-22 div.sk-text-repr-fallback {display: none;}</style><div id=\"sk-container-id-22\" class=\"sk-top-container\"><div class=\"sk-text-repr-fallback\"><pre>LinearRegression()</pre><b>In a Jupyter environment, please rerun this cell to show the HTML representation or trust the notebook. <br />On GitHub, the HTML representation is unable to render, please try loading this page with nbviewer.org.</b></div><div class=\"sk-container\" hidden><div class=\"sk-item\"><div class=\"sk-estimator sk-toggleable\"><input class=\"sk-toggleable__control sk-hidden--visually\" id=\"sk-estimator-id-22\" type=\"checkbox\" checked><label for=\"sk-estimator-id-22\" class=\"sk-toggleable__label sk-toggleable__label-arrow\">LinearRegression</label><div class=\"sk-toggleable__content\"><pre>LinearRegression()</pre></div></div></div></div></div>"
      ],
      "text/plain": [
       "LinearRegression()"
      ]
     },
     "execution_count": 201,
     "metadata": {},
     "output_type": "execute_result"
    }
   ],
   "source": [
    "model_fit = model.fit(x_train, Y_train)\n",
    "model_fit"
   ]
  },
  {
   "cell_type": "code",
   "execution_count": 202,
   "id": "632481f1",
   "metadata": {},
   "outputs": [],
   "source": [
    "pred_train = model_fit.predict(x_train)"
   ]
  },
  {
   "cell_type": "code",
   "execution_count": 203,
   "id": "6adae55c",
   "metadata": {},
   "outputs": [
    {
     "name": "stdout",
     "output_type": "stream",
     "text": [
      "R2 score of log trained model is :  0.9\n"
     ]
    }
   ],
   "source": [
    "print(\"R2 score of log trained model is : \", round(r2_score(pred_train, Y_train),2))"
   ]
  },
  {
   "cell_type": "code",
   "execution_count": 208,
   "id": "48ebdcda",
   "metadata": {},
   "outputs": [
    {
     "data": {
      "text/plain": [
       "array([5.47823142, 5.3295118 , 5.49696169, 5.33948606, 5.36322931,\n",
       "       5.68936573, 5.37163764, 5.16547186, 5.37494117, 5.30352456,\n",
       "       5.43809144, 5.34130039, 5.5794118 , 5.23418496, 5.92139707,\n",
       "       5.72955736, 5.40141246, 5.44844688, 5.64892632, 5.56552631,\n",
       "       5.86994781, 5.35833577, 5.55971623, 5.4950374 , 5.27776793,\n",
       "       5.69086835, 5.32069796, 5.82509726, 5.31672784, 5.62631582,\n",
       "       5.63843928, 5.37764392, 5.50628592, 5.59024438, 5.39614606,\n",
       "       5.32924925, 5.50009939, 5.93560549, 6.03175806, 5.35833577,\n",
       "       5.76896022, 5.84295166, 5.29268435, 5.2777829 , 5.52301212,\n",
       "       5.56077775, 5.55971623, 4.99168265, 5.58488243, 5.26278715,\n",
       "       5.75475245, 5.21744068, 5.26278715, 5.28619122, 5.39614606,\n",
       "       4.89456908, 5.49061667, 5.65501405, 5.76949858, 5.16287212,\n",
       "       5.21744068, 5.29817313, 5.58278849, 5.23918063, 5.88735889,\n",
       "       5.48099494, 5.14182934, 5.28289471, 5.25331731, 5.25089923,\n",
       "       5.35135666, 5.15672772, 5.15532762, 4.98755446, 5.56077775,\n",
       "       5.17614988, 5.9317962 , 5.58852117, 5.59447105, 5.65251491,\n",
       "       4.98755446, 5.64786481, 5.33443029, 5.30189051, 5.36674409,\n",
       "       5.00909544, 5.284653  , 5.25445905, 5.43893711, 5.38206674,\n",
       "       5.58090733, 5.8067279 , 5.31552794, 5.87999438, 5.53916367,\n",
       "       5.38680815, 5.18958983, 5.39614606, 5.29817313, 5.2777829 ,\n",
       "       5.53675614, 5.22074501, 5.68246003, 5.44054081, 5.41482484,\n",
       "       5.36322931, 5.6872514 , 5.59447105, 5.30711961, 5.89496643,\n",
       "       5.76789488, 5.35833577, 5.80185644, 5.65273862, 5.69517431,\n",
       "       5.50625932, 5.39614606, 5.70374639, 5.39676732, 5.15023766,\n",
       "       5.54302481, 5.26675726, 5.46134986, 5.35833577, 5.50009939,\n",
       "       5.51025535, 5.55363957, 5.38206674, 5.49061667, 5.33443029,\n",
       "       5.32325363, 5.21491638, 5.30408276, 5.70020594, 5.18118151,\n",
       "       5.35833577, 5.29130303, 5.59249129, 5.63628976, 5.83591348,\n",
       "       5.36322931, 5.33948606, 5.61365228, 5.24361884, 5.48113141,\n",
       "       5.41027215, 5.4437541 , 5.54984058, 5.87258495, 5.53675614,\n",
       "       5.45316318, 5.70731958, 5.59431145, 5.35833577, 5.67279878,\n",
       "       5.29130303, 5.52676906, 5.31228963, 5.4881673 , 5.61904936,\n",
       "       5.12535743, 5.34635616, 5.61160949, 5.62221464, 5.36520587,\n",
       "       5.44246987, 5.26278715, 5.50375275, 5.39746241, 5.31552794,\n",
       "       5.61471379, 5.84693912, 5.41714225, 5.6022278 , 5.52516592,\n",
       "       5.42017527, 4.91491461, 5.3592592 , 5.49748677, 5.80334118,\n",
       "       5.59936138, 5.8850498 , 5.38206674, 5.74937626, 5.58480132,\n",
       "       5.65854721, 5.41482484, 5.80256857, 5.33443029, 5.73482588,\n",
       "       5.19799815, 5.80622789, 5.31228963, 5.23189949, 5.69939424,\n",
       "       5.81797548, 5.14328777, 4.98358435, 5.82022886, 5.18229147,\n",
       "       5.20506225, 5.60441946, 5.56983743, 5.22577664, 5.628533  ,\n",
       "       5.53257764, 5.66708492, 5.38680815, 5.17234196, 5.04432969,\n",
       "       5.27516558, 5.54445959, 5.59656499, 5.31552794, 5.51165527,\n",
       "       5.07251848, 5.94967513, 5.64424786, 5.83848802, 5.28733292,\n",
       "       5.49566118, 5.4717708 , 5.29817313, 5.58278849, 5.40724111,\n",
       "       5.34130039, 5.52697744, 5.25327278, 5.50375275, 5.13679771,\n",
       "       5.2616811 , 5.79937463, 5.22438621, 5.18489121, 5.38206674,\n",
       "       5.37009941, 5.41933268, 5.49289462, 5.34283861, 5.41482484,\n",
       "       5.04799767, 5.31155782, 5.44933996, 5.69535706, 5.53985497,\n",
       "       5.55971623, 5.89091581, 5.72304085, 5.29130303, 5.89917508,\n",
       "       5.09283968, 5.32910628, 5.52301212, 5.19573142, 5.85840746,\n",
       "       5.4717708 , 5.50084599, 5.3592592 , 5.79223515, 5.4950374 ,\n",
       "       5.71252378, 5.56983743, 5.20903236, 5.44933996, 5.73955483,\n",
       "       5.36520587, 5.31716893, 5.68610533, 5.71962867, 5.64995875,\n",
       "       5.70505683, 5.22342171, 5.35482099, 5.25599727, 6.21199784,\n",
       "       5.56680691, 5.75874605, 5.59167142, 5.58588732, 5.26833318,\n",
       "       5.64734669, 5.75694809, 5.31552794, 5.98591321, 5.92917456,\n",
       "       5.36807107, 5.72462006, 5.39521647, 5.30632872, 5.34448656,\n",
       "       5.219948  , 5.18118151, 5.29665446, 5.35833577, 5.72588394,\n",
       "       5.50956133, 5.55671068, 5.32864584, 5.41482484, 5.2616811 ,\n",
       "       5.84875656, 5.38206674, 5.81088573, 5.32756805, 5.54176693,\n",
       "       5.39990925, 5.41340636, 5.4786409 , 5.66842703, 5.33948606,\n",
       "       5.74037349, 5.92775276, 5.29665446, 5.80449812, 5.13679771,\n",
       "       5.55045334, 5.09022879, 5.47408821, 5.56181017, 5.37009941,\n",
       "       5.56065745, 5.31029883, 5.54993754, 5.67816336, 5.59936138,\n",
       "       5.72147751, 5.60784369, 5.49304856, 5.79131828, 5.74441133,\n",
       "       5.53467158, 5.31552794, 5.16547186, 5.52301212, 5.39150092,\n",
       "       5.50084599, 5.76735801, 5.71085274, 5.36322931, 5.63843928,\n",
       "       5.33948606, 5.22835632, 5.47987004, 5.2777829 , 5.46560609,\n",
       "       5.43082562, 5.53094755, 5.39047506, 5.98376676, 5.13297981,\n",
       "       4.91491461, 5.05921134, 5.31552794, 5.13694992, 5.21501338,\n",
       "       5.63782511, 5.61534454, 5.38206674, 5.39614606, 5.29130303,\n",
       "       5.24105506, 5.23522642, 5.234149  , 5.18472039, 5.49061667,\n",
       "       5.2777829 , 5.29665446, 5.39614606, 5.89957616, 5.33443029,\n",
       "       5.24758895, 5.32393626, 5.94580626, 5.23676464, 5.45521511,\n",
       "       5.42620278, 5.53675614, 5.36322931, 5.42009124, 5.56077775,\n",
       "       5.20413974, 5.427741  , 5.58469235, 5.57135135, 5.66920499,\n",
       "       5.44246987, 5.56077775, 5.71963903, 4.97370308, 5.4022406 ,\n",
       "       5.83123885, 5.34992745, 5.69872729, 5.49941582, 6.01212681,\n",
       "       5.24259328, 5.26014287, 5.45087819, 5.31716893, 5.84304597,\n",
       "       5.14328777, 5.06804541, 5.68944704, 5.58385   , 6.0437056 ,\n",
       "       5.53233254, 5.80986982, 5.25599727, 5.69291871, 5.74877396,\n",
       "       5.75252089, 5.55671068, 6.03295679, 5.35833577, 5.70228795,\n",
       "       5.42501703, 5.69897401, 5.50956133, 5.41027215, 5.25327278,\n",
       "       5.80562538, 5.42973333, 5.34448656, 5.16547186, 5.31870715,\n",
       "       5.36807107, 5.65183889, 5.65289644, 5.47627864, 5.59656499,\n",
       "       5.45309202, 5.65933975, 5.36322931, 5.36520587, 5.2940664 ,\n",
       "       5.36322931, 5.39718484, 5.20903236, 5.8302994 , 5.19573142,\n",
       "       5.14626754, 5.45087819, 5.76896022, 5.20413974, 5.20506225,\n",
       "       5.4985192 , 5.55260714, 5.31552794, 5.4950374 , 5.47302669,\n",
       "       5.61951201, 5.37764392, 5.47400159, 5.36322931, 5.75475245,\n",
       "       5.73163876, 5.46661626, 5.39614606, 5.58880985, 5.93827858,\n",
       "       5.30711961, 5.72541313, 5.48314874, 5.37009941, 5.5991296 ,\n",
       "       5.79131828, 5.55633954, 5.70155075, 5.24486445, 5.58090733,\n",
       "       5.64530937, 5.55930605, 5.56153028, 5.59829987, 5.40641652,\n",
       "       5.41933268, 5.45309202, 5.49566118, 5.34635616, 5.44844688,\n",
       "       5.12610971, 5.4698231 , 5.81957444, 5.7247583 , 5.45309202,\n",
       "       5.39614606, 5.56193491, 5.52516592, 5.32239803, 5.72662053,\n",
       "       5.3295118 , 5.31716893, 5.43082562, 5.30506278, 5.76944156,\n",
       "       5.568805  , 5.56774349, 5.56193491, 5.34053744, 5.67596714,\n",
       "       5.29685888, 5.50498895, 5.82923788, 5.48879108, 5.9328099 ,\n",
       "       4.93310178, 5.69144774, 5.8163636 , 5.38680815, 5.26694269,\n",
       "       5.39521647, 5.38206674, 5.1044791 , 5.62221464, 5.1061089 ,\n",
       "       5.84693912, 5.41933268, 6.07677681, 5.52301212, 5.25327278,\n",
       "       5.37009941, 5.13590827, 5.89957616, 5.47627864, 5.26146308,\n",
       "       5.33948606, 5.20903236, 4.87208527, 5.79276916, 5.35833577,\n",
       "       5.48314874, 5.15672772, 5.22577664, 5.28530228, 5.49941582,\n",
       "       5.65854721, 5.74877396, 5.33505783, 5.4750895 , 5.219948  ,\n",
       "       5.34283861, 5.33607824, 5.69801759, 5.29971135, 5.64734669,\n",
       "       5.65354733, 5.35833577, 5.41714225, 5.70505683, 5.44246987,\n",
       "       5.35833577, 5.558748  , 5.53083147, 5.22835632, 5.78817636,\n",
       "       5.34448656, 5.27362736, 5.49748677, 5.52836064, 5.46975818,\n",
       "       5.11975752, 5.44844688, 5.42750353, 5.19378116, 5.59553256,\n",
       "       5.39150092, 5.35833577, 5.24243256, 5.31552794, 5.62272441,\n",
       "       5.56153028, 5.52836064, 5.60441946, 5.26389497, 5.13939745,\n",
       "       5.39150092, 5.36520587, 5.76952975, 5.35833577, 5.48314874,\n",
       "       5.74993553, 5.28321451, 5.94910848, 5.39837102, 5.73482588,\n",
       "       5.29130303, 5.38680815, 5.24361884, 5.42017527, 5.16547186,\n",
       "       5.59024438, 5.64564481, 5.26278715, 5.43367071, 5.20062404,\n",
       "       5.55793888, 5.7549141 , 5.44844688, 5.04788226, 5.31552794,\n",
       "       5.4950374 , 5.41528173, 5.44956269, 5.23418496, 5.62272441,\n",
       "       5.34448656, 5.66893798, 5.13297981, 4.99565276, 5.90316757,\n",
       "       5.71678054, 5.76616168, 5.41714225, 5.39047506, 5.77189791,\n",
       "       5.53567648, 5.65648502, 5.45309202, 5.73228323, 5.41482484,\n",
       "       5.72482243, 5.23522642, 5.18118151, 5.3830926 , 5.63289509,\n",
       "       5.03092352, 5.7247583 , 5.79525454, 5.47757939, 5.26833318,\n",
       "       5.31552794, 5.39150092, 5.03454657, 5.41027215, 5.70155075,\n",
       "       5.49533297, 5.59167142, 5.67596714, 5.4022406 , 5.79525454,\n",
       "       5.60593011, 5.41714225, 5.37809662, 5.58083121, 5.58866246,\n",
       "       5.13297981, 5.67153654, 5.53885008, 5.09283968, 5.54984058,\n",
       "       5.52255205, 5.27381279, 5.88208836, 5.29665446, 5.66311481,\n",
       "       5.15275761, 4.97393363, 5.43809144, 5.43901269, 5.49061667,\n",
       "       5.65560469, 5.75977552, 5.5019075 , 5.57300979, 5.44680679,\n",
       "       5.20062404, 5.27362736, 5.9240191 , 5.4698231 , 5.29665446,\n",
       "       5.80622789, 5.2777829 , 6.13037144, 4.84948083, 5.32359008,\n",
       "       5.33443029, 5.44616446, 5.38206674, 5.89599886, 5.33948606,\n",
       "       5.66415667, 5.48208722, 5.59249129, 5.67816336, 5.55260714,\n",
       "       5.56480898, 5.62490253, 5.40455438, 5.83712303, 5.44246987,\n",
       "       5.49289462, 5.44482128, 5.2616811 , 5.50628592, 5.29130303,\n",
       "       5.80562538, 5.19176131, 5.63514304, 5.37991363, 6.02137039,\n",
       "       5.75618412, 5.35833577, 5.52720323, 5.50956133, 5.67005712,\n",
       "       5.35833577, 5.32825414, 5.52942215, 5.66312821, 5.28824614,\n",
       "       5.43901269, 5.29945862, 5.4950374 , 5.32602197, 5.27381279,\n",
       "       5.2777829 , 5.27230329, 5.59936138, 5.50413212, 5.17000105,\n",
       "       5.51266016, 5.29971135, 5.27786308, 5.39150092, 5.84304597,\n",
       "       5.49642526, 5.37494117, 5.38206674, 5.72462006, 5.70374639,\n",
       "       5.17000105, 5.18229147, 5.25327278, 5.11632392, 5.26146308,\n",
       "       5.34448656, 5.60675836, 5.38206674, 5.848593  , 5.86199886,\n",
       "       5.58588732, 5.56717286, 5.00795111, 5.69445693, 5.4698231 ,\n",
       "       5.09669438, 5.41528173, 5.31029883, 5.59431145, 5.59249129,\n",
       "       5.62131113, 5.26278715, 5.49642526, 5.89108684, 5.5241044 ,\n",
       "       5.52301212, 5.36807107, 5.81110003, 5.61904936, 5.59167142,\n",
       "       5.69517431, 5.17183952, 5.28581425, 5.58278849, 5.84612372,\n",
       "       5.20413974, 5.73000896, 5.55390765, 5.93193917, 5.20062404,\n",
       "       5.41714225, 5.31552794, 5.87717873, 5.54984058, 5.51025535,\n",
       "       5.53781765, 5.59553256, 5.33948606, 5.29665446, 5.68504382,\n",
       "       5.97055888, 5.59167142, 5.55343199, 5.80252338, 5.4950374 ,\n",
       "       5.79942394, 5.71963903, 5.59553256, 5.25834894, 5.24486445,\n",
       "       5.73144917, 5.72462006, 5.92882182, 5.55971623, 5.93212476,\n",
       "       5.44246987, 5.76627321, 5.38893683, 5.44649976, 5.36724479,\n",
       "       5.11531931, 5.69801759, 5.84461782, 5.15275761, 5.6022278 ,\n",
       "       5.58352387, 5.62485794, 5.73336093, 5.23676464, 5.59167142,\n",
       "       5.20903236, 5.55564917, 5.85022051, 5.70725247, 5.26833318,\n",
       "       5.70155075, 5.42169494, 5.59447105, 5.23918063, 5.03592137,\n",
       "       5.21751611, 5.59829987, 5.59553256, 5.46134986, 5.53675614,\n",
       "       5.48208722, 5.98119766, 5.20062404, 5.80986982, 5.45309202,\n",
       "       5.87864848, 5.17234196, 5.33443029, 5.66261725, 5.54984058,\n",
       "       5.33948606, 5.31029883, 5.49061667, 5.60784369, 5.62221464,\n",
       "       5.39837102, 5.27381279, 5.45425547, 5.53257764, 4.98755446,\n",
       "       5.50420293, 5.70295489, 5.43809144, 5.7764209 , 5.24361884,\n",
       "       5.2777829 , 5.21104327, 5.31602732, 5.55793888, 5.43082562,\n",
       "       5.75977847, 5.47627864, 5.45077013, 5.70374639, 5.52942215,\n",
       "       5.59834268, 5.33046018, 5.68604861, 5.7481826 , 5.5668463 ,\n",
       "       5.55793888, 5.61847959, 5.4589006 , 5.65854721, 5.50522441,\n",
       "       5.36849571, 5.74831475])"
      ]
     },
     "execution_count": 208,
     "metadata": {},
     "output_type": "execute_result"
    }
   ],
   "source": [
    "pred_test = model_fit.predict(x_test)\n",
    "pred_test"
   ]
  },
  {
   "cell_type": "code",
   "execution_count": 209,
   "id": "c5122a25",
   "metadata": {},
   "outputs": [
    {
     "name": "stdout",
     "output_type": "stream",
     "text": [
      "R2 score of log tested model is :  0.91\n",
      "MAE of log tested model is :  0.04\n",
      "MSE score of log tested model is :  0.0\n",
      "RMSE score of log tested model is :  0.07\n"
     ]
    }
   ],
   "source": [
    "print(\"R2 score of log tested model is : \", round(r2_score(pred_test, Y_test),2))\n",
    "print(\"MAE of log tested model is : \", round(mean_absolute_error(pred_test, Y_test),2))\n",
    "print(\"MSE score of log tested model is : \", round(mean_squared_error(pred_test, Y_test),2))\n",
    "print(\"RMSE score of log tested model is : \", round(sqrt(mean_squared_error(pred_test, Y_test)),2))"
   ]
  },
  {
   "cell_type": "markdown",
   "id": "00471771",
   "metadata": {},
   "source": [
    "# Conculsion : Log transformed positively skewed values, along with standardization gives r2 score of 91%, much improved value of 88% from not transformed values."
   ]
  }
 ],
 "metadata": {
  "kernelspec": {
   "display_name": "Python 3 (ipykernel)",
   "language": "python",
   "name": "python3"
  },
  "language_info": {
   "codemirror_mode": {
    "name": "ipython",
    "version": 3
   },
   "file_extension": ".py",
   "mimetype": "text/x-python",
   "name": "python",
   "nbconvert_exporter": "python",
   "pygments_lexer": "ipython3",
   "version": "3.11.5"
  }
 },
 "nbformat": 4,
 "nbformat_minor": 5
}
