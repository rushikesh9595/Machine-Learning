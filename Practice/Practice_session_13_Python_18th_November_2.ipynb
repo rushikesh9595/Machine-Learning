{
 "cells": [
  {
   "cell_type": "code",
   "execution_count": 1,
   "id": "a78fc384",
   "metadata": {},
   "outputs": [],
   "source": [
    "## Logistics regression: It will stratify the data using target variable Y and will sample the class values randomly which\n",
    "# will help in the end result as sample is randomly selected out of data and there will be no bias.\n",
    "\n",
    "## Creating different functions for each imp section helps in error diagnostics\n",
    "\n",
    "## inside function right \n",
    "## try:.....except Exception as e:\n",
    "## print(e)  (Called try_catch block)\n",
    "\n",
    "## Code modularization means merging all cells and beautify the codes,  arrange them propely.\n",
    "\n",
    "## LEsser the print stataments lesser is memory consumed...focus on return"
   ]
  },
  {
   "cell_type": "code",
   "execution_count": 13,
   "id": "b7cdc7f3",
   "metadata": {},
   "outputs": [],
   "source": [
    "import pandas as pd\n",
    "import  numpy as np\n",
    "import seaborn as sns\n",
    "from sklearn.linear_model import LogisticRegression\n",
    "from sklearn.model_selection import train_test_split\n",
    "\n",
    "### Getting model diagnostics\n",
    "from sklearn.metrics import accuracy_score, precision_score, confusion_matrix, ConfusionMatrixDisplay, classification_report, r2_score"
   ]
  },
  {
   "cell_type": "code",
   "execution_count": 14,
   "id": "67c2b43b",
   "metadata": {},
   "outputs": [],
   "source": [
    "def read_data():\n",
    "    try:                         # try:....except Exception as e: used for locating exact error for that function\n",
    "        data = pd.read_csv(\"C:/Users/Rushikesh/Desktop/Students.csv\")   ## we can also use different datasets in same code by putting read_data(path) and mentioning path in main_function(path) as well.\n",
    "        return data\n",
    "    except Exception as e:\n",
    "        print(\"Error is in read_data()\",e)\n",
    "\n",
    "\n",
    "def data_split(data):\n",
    "    try:\n",
    "        x = data[['JEEPRE', 'JEEMAINS']]\n",
    "        y = data['STATUS']\n",
    "        x_train, x_test, y_train, y_test = train_test_split(x,y,train_size=0.8,random_state=1234, stratify=y)\n",
    "## use stratify only when data length is big\n",
    "        return  x_train, x_test, y_train, y_test\n",
    "    except Exception as e:\n",
    "        print(\"Error is in data_split() function\", e)\n",
    "\n",
    "\n",
    "def model_pred(x_train, y_train, x_test):\n",
    "    try:\n",
    "        model = LogisticRegression()\n",
    "        model_fit = model.fit(x_train, y_train)\n",
    "        pred = model_fit.predict(x_test)\n",
    "        return pred\n",
    "    except Exception as e:\n",
    "        print(\"Error is in model_pred() function\", e)\n",
    "\n",
    "### Getting model diagnostics\n",
    "\n",
    "def model_diag(y_test,pred):\n",
    "    try:\n",
    "        acc = accuracy_score(y_test, pred)\n",
    "        pre = precision_score(y_test, pred)\n",
    "        cnf = confusion_matrix(y_test, pred)\n",
    "        clfs = classification_report(y_test, pred)\n",
    "        return acc, pre, cnf, clfs\n",
    "    except Exception as e:\n",
    "        print(\"Error is in model_diag() function\", e)"
   ]
  },
  {
   "cell_type": "code",
   "execution_count": 15,
   "id": "2be73f28",
   "metadata": {},
   "outputs": [
    {
     "name": "stdout",
     "output_type": "stream",
     "text": [
      "(0.95, 1.0)\n"
     ]
    }
   ],
   "source": [
    "def main_function():\n",
    "    data = read_data()\n",
    "    x_train, x_test, y_train, y_test = data_split(data)\n",
    "    pred = model_pred(x_train, y_train, x_test)\n",
    "    acc, pre, cnf, clfs = model_diag(y_test, pred)\n",
    "    return acc, pre\n",
    "\n",
    "results = main_function()\n",
    "print(results)"
   ]
  },
  {
   "cell_type": "code",
   "execution_count": null,
   "id": "bddb2cdb",
   "metadata": {},
   "outputs": [],
   "source": []
  },
  {
   "cell_type": "code",
   "execution_count": null,
   "id": "dcf598ab",
   "metadata": {},
   "outputs": [],
   "source": []
  },
  {
   "cell_type": "code",
   "execution_count": null,
   "id": "0f14ba1b",
   "metadata": {},
   "outputs": [],
   "source": []
  }
 ],
 "metadata": {
  "kernelspec": {
   "display_name": "Python 3 (ipykernel)",
   "language": "python",
   "name": "python3"
  },
  "language_info": {
   "codemirror_mode": {
    "name": "ipython",
    "version": 3
   },
   "file_extension": ".py",
   "mimetype": "text/x-python",
   "name": "python",
   "nbconvert_exporter": "python",
   "pygments_lexer": "ipython3",
   "version": "3.11.5"
  }
 },
 "nbformat": 4,
 "nbformat_minor": 5
}
