{
 "cells": [
  {
   "cell_type": "code",
   "execution_count": 1,
   "id": "bc80a6d5",
   "metadata": {},
   "outputs": [],
   "source": [
    "# Decision Tree and Random Forest :  Type of SUpervised learning model and can be used for both regression and classification\n",
    "# but mostly used in classification.\n",
    "#  it is used for both categorical (classes) and continuous data.\n",
    "\n",
    "# DT : flow-chart like structure where internal node = feature or attribute, branch = decision rule and leaf represents an outcome.\n",
    "# flowchart : root node is decision node, branches are sub-nodes and leafs are leaf nodes (no further split). set of sub-node and leaf nodes is \n",
    "# sub-tree.\n",
    "\n",
    "#  It uses ASM (Attribute selection measure) to better select attribute or feature for selecting root node. ASM is splitting criterion\n",
    "# that partition data in best possible manner.Also known as splitting rule. It gives rank to features or attribute. Best score is \n",
    "# splitting attribute.\n",
    "\n",
    "# Information gain : more messy the data is more information gain.\n",
    "# ENtropy : more the IF more impure the data is i.e more entropy. Shannon introduced entropy. It splits the data in uneven numbers\n",
    "# of positive and negatives.\n",
    "\n",
    "# PROCESS : It selects the dependent variable and calculates its entropy which is used as IG before split\n",
    "# After that it calculates entropy of each attribute and their IG (IG after split)\n",
    "# IGBS - IGAS = IG. Highest IG is represented as root node and it follows  with 2nd, 3rd highests and so on until there\n",
    "# will be no more splitting.\n",
    "\n",
    "# Gini index can also be used for calculation where ther are 2 classes or binary classification"
   ]
  },
  {
   "cell_type": "code",
   "execution_count": null,
   "id": "e331edf7",
   "metadata": {},
   "outputs": [],
   "source": [
    "### Random FOrest : Its a cluster of Decision tress with highest IGs combined to get greater classification and accuracy.\n",
    "# it uses bagging method which learns from different DTs, ensembles them, learn from them (create learning model) \n",
    "# and gives good results.\n",
    "\n",
    "# Bagging (Bootstrap aggregation) : It combines predictions from multiple ML algorithms and gives good prediction than\n",
    "# any individual model"
   ]
  },
  {
   "cell_type": "code",
   "execution_count": 17,
   "id": "f3dcc704",
   "metadata": {},
   "outputs": [],
   "source": [
    "import pandas as pd\n",
    "import seaborn as sns\n",
    "import matplotlib.pyplot as plt\n",
    "from sklearn.model_selection import train_test_split\n",
    "from sklearn.tree import DecisionTreeClassifier\n",
    "from sklearn.ensemble import RandomForestClassifier\n",
    "from sklearn.metrics import accuracy_score, classification_report, precision_score, confusion_matrix, r2_score"
   ]
  },
  {
   "cell_type": "code",
   "execution_count": 18,
   "id": "98521182",
   "metadata": {},
   "outputs": [
    {
     "data": {
      "text/html": [
       "<div>\n",
       "<style scoped>\n",
       "    .dataframe tbody tr th:only-of-type {\n",
       "        vertical-align: middle;\n",
       "    }\n",
       "\n",
       "    .dataframe tbody tr th {\n",
       "        vertical-align: top;\n",
       "    }\n",
       "\n",
       "    .dataframe thead th {\n",
       "        text-align: right;\n",
       "    }\n",
       "</style>\n",
       "<table border=\"1\" class=\"dataframe\">\n",
       "  <thead>\n",
       "    <tr style=\"text-align: right;\">\n",
       "      <th></th>\n",
       "      <th>JEEPRE</th>\n",
       "      <th>JEEMAINS</th>\n",
       "      <th>STATUS</th>\n",
       "    </tr>\n",
       "  </thead>\n",
       "  <tbody>\n",
       "    <tr>\n",
       "      <th>0</th>\n",
       "      <td>34.623660</td>\n",
       "      <td>78.024693</td>\n",
       "      <td>0</td>\n",
       "    </tr>\n",
       "    <tr>\n",
       "      <th>1</th>\n",
       "      <td>30.286711</td>\n",
       "      <td>43.894998</td>\n",
       "      <td>0</td>\n",
       "    </tr>\n",
       "  </tbody>\n",
       "</table>\n",
       "</div>"
      ],
      "text/plain": [
       "      JEEPRE   JEEMAINS  STATUS\n",
       "0  34.623660  78.024693       0\n",
       "1  30.286711  43.894998       0"
      ]
     },
     "execution_count": 18,
     "metadata": {},
     "output_type": "execute_result"
    }
   ],
   "source": [
    "df = pd.read_csv(\"C:/Users/Rushikesh/Desktop/Python Files/Students.csv\")\n",
    "df.head(2)"
   ]
  },
  {
   "cell_type": "code",
   "execution_count": 19,
   "id": "cc25fc2f",
   "metadata": {},
   "outputs": [
    {
     "data": {
      "text/html": [
       "<div>\n",
       "<style scoped>\n",
       "    .dataframe tbody tr th:only-of-type {\n",
       "        vertical-align: middle;\n",
       "    }\n",
       "\n",
       "    .dataframe tbody tr th {\n",
       "        vertical-align: top;\n",
       "    }\n",
       "\n",
       "    .dataframe thead th {\n",
       "        text-align: right;\n",
       "    }\n",
       "</style>\n",
       "<table border=\"1\" class=\"dataframe\">\n",
       "  <thead>\n",
       "    <tr style=\"text-align: right;\">\n",
       "      <th></th>\n",
       "      <th>JEEPRE</th>\n",
       "      <th>JEEMAINS</th>\n",
       "    </tr>\n",
       "  </thead>\n",
       "  <tbody>\n",
       "    <tr>\n",
       "      <th>0</th>\n",
       "      <td>34.623660</td>\n",
       "      <td>78.024693</td>\n",
       "    </tr>\n",
       "    <tr>\n",
       "      <th>1</th>\n",
       "      <td>30.286711</td>\n",
       "      <td>43.894998</td>\n",
       "    </tr>\n",
       "  </tbody>\n",
       "</table>\n",
       "</div>"
      ],
      "text/plain": [
       "      JEEPRE   JEEMAINS\n",
       "0  34.623660  78.024693\n",
       "1  30.286711  43.894998"
      ]
     },
     "execution_count": 19,
     "metadata": {},
     "output_type": "execute_result"
    }
   ],
   "source": [
    "X = df[['JEEPRE', 'JEEMAINS']]\n",
    "X.head(2)"
   ]
  },
  {
   "cell_type": "code",
   "execution_count": 20,
   "id": "1000f876",
   "metadata": {},
   "outputs": [
    {
     "data": {
      "text/plain": [
       "0    0\n",
       "1    0\n",
       "Name: STATUS, dtype: int64"
      ]
     },
     "execution_count": 20,
     "metadata": {},
     "output_type": "execute_result"
    }
   ],
   "source": [
    "Y = df['STATUS']\n",
    "Y.head(2)"
   ]
  },
  {
   "cell_type": "code",
   "execution_count": 21,
   "id": "814e5573",
   "metadata": {},
   "outputs": [],
   "source": [
    "X_train, X_test, Y_train, Y_test = train_test_split(X,Y, train_size=0.8, random_state=1234)"
   ]
  },
  {
   "cell_type": "code",
   "execution_count": 22,
   "id": "794b48bd",
   "metadata": {},
   "outputs": [],
   "source": [
    "def Dectree_model(X_train, X_test, Y_train):\n",
    "    model_dt = DecisionTreeClassifier(criterion='entropy', max_depth=3)  ## by default it is Gini\n",
    "    model_fit = model_dt.fit(X_train, Y_train)\n",
    "    pred = model_fit.predict(X_test)\n",
    "    return pred"
   ]
  },
  {
   "cell_type": "code",
   "execution_count": 23,
   "id": "953c7db0",
   "metadata": {},
   "outputs": [
    {
     "data": {
      "text/plain": [
       "array([1, 0, 1, 0, 0, 1, 1, 0, 0, 1, 0, 1, 0, 1, 1, 1, 1, 0, 1, 1],\n",
       "      dtype=int64)"
      ]
     },
     "execution_count": 23,
     "metadata": {},
     "output_type": "execute_result"
    }
   ],
   "source": [
    "pred = Dectree_model(X_train, X_test, Y_train)\n",
    "pred"
   ]
  },
  {
   "cell_type": "code",
   "execution_count": 33,
   "id": "4bf52943",
   "metadata": {},
   "outputs": [],
   "source": [
    "def metrics_dectree(Y_test, pred):\n",
    "    acc = accuracy_score(Y_test,pred)\n",
    "    cnf = confusion_matrix(Y_test,pred)\n",
    "    prec = precision_score(Y_test, pred)\n",
    "    clf = classification_report(Y_test,pred)\n",
    "    return acc, cnf, prec, clf"
   ]
  },
  {
   "cell_type": "code",
   "execution_count": 34,
   "id": "373e75ab",
   "metadata": {},
   "outputs": [],
   "source": [
    "acc, cnf, prec, clf = metrics_dectree(Y_test, pred)"
   ]
  },
  {
   "cell_type": "code",
   "execution_count": 35,
   "id": "1edc2198",
   "metadata": {},
   "outputs": [
    {
     "data": {
      "text/plain": [
       "0.9"
      ]
     },
     "execution_count": 35,
     "metadata": {},
     "output_type": "execute_result"
    }
   ],
   "source": [
    "acc"
   ]
  },
  {
   "cell_type": "code",
   "execution_count": 36,
   "id": "51a94ead",
   "metadata": {},
   "outputs": [
    {
     "data": {
      "text/plain": [
       "array([[ 6,  0],\n",
       "       [ 2, 12]], dtype=int64)"
      ]
     },
     "execution_count": 36,
     "metadata": {},
     "output_type": "execute_result"
    }
   ],
   "source": [
    "cnf"
   ]
  },
  {
   "cell_type": "code",
   "execution_count": 37,
   "id": "32c8ab16",
   "metadata": {},
   "outputs": [
    {
     "data": {
      "text/plain": [
       "1.0"
      ]
     },
     "execution_count": 37,
     "metadata": {},
     "output_type": "execute_result"
    }
   ],
   "source": [
    "prec"
   ]
  },
  {
   "cell_type": "code",
   "execution_count": 38,
   "id": "8b8f26ce",
   "metadata": {},
   "outputs": [
    {
     "data": {
      "text/plain": [
       "'              precision    recall  f1-score   support\\n\\n           0       0.75      1.00      0.86         6\\n           1       1.00      0.86      0.92        14\\n\\n    accuracy                           0.90        20\\n   macro avg       0.88      0.93      0.89        20\\nweighted avg       0.93      0.90      0.90        20\\n'"
      ]
     },
     "execution_count": 38,
     "metadata": {},
     "output_type": "execute_result"
    }
   ],
   "source": [
    "clf"
   ]
  },
  {
   "cell_type": "code",
   "execution_count": 49,
   "id": "9626aaa2",
   "metadata": {},
   "outputs": [],
   "source": [
    "def rf_model(X_train, X_test, Y_train):\n",
    "    model_dt1 = RandomForestClassifier(criterion='entropy', max_depth=5)  ## by default it is Gini\n",
    "    model_fit1 = model_dt1.fit(X_train, Y_train)\n",
    "    pred1 = model_fit1.predict(X_test)\n",
    "    return pred1"
   ]
  },
  {
   "cell_type": "code",
   "execution_count": 50,
   "id": "fcae6c64",
   "metadata": {},
   "outputs": [
    {
     "data": {
      "text/plain": [
       "array([1, 0, 1, 0, 1, 1, 1, 0, 0, 1, 0, 1, 0, 1, 1, 1, 0, 0, 1, 1],\n",
       "      dtype=int64)"
      ]
     },
     "execution_count": 50,
     "metadata": {},
     "output_type": "execute_result"
    }
   ],
   "source": [
    "pred1 = rf_model(X_train, X_test, Y_train)\n",
    "pred1"
   ]
  },
  {
   "cell_type": "code",
   "execution_count": 51,
   "id": "77c46ec8",
   "metadata": {},
   "outputs": [],
   "source": [
    "def metrics_rf(Y_test, pred):\n",
    "    acc1 = accuracy_score(Y_test,pred)\n",
    "    cnf1 = confusion_matrix(Y_test,pred)\n",
    "    prec1 = precision_score(Y_test, pred)\n",
    "    clf1 = classification_report(Y_test,pred)\n",
    "    return acc1, cnf1, prec1, clf1"
   ]
  },
  {
   "cell_type": "code",
   "execution_count": 52,
   "id": "762c29f2",
   "metadata": {},
   "outputs": [],
   "source": [
    "acc1, cnf1, prec1, clf1 = metrics_rf(Y_test, pred)"
   ]
  },
  {
   "cell_type": "code",
   "execution_count": 53,
   "id": "8b05a0b7",
   "metadata": {},
   "outputs": [
    {
     "data": {
      "text/plain": [
       "0.9"
      ]
     },
     "execution_count": 53,
     "metadata": {},
     "output_type": "execute_result"
    }
   ],
   "source": [
    "acc1"
   ]
  },
  {
   "cell_type": "code",
   "execution_count": 54,
   "id": "27a3ba41",
   "metadata": {},
   "outputs": [
    {
     "data": {
      "text/plain": [
       "array([[ 6,  0],\n",
       "       [ 2, 12]], dtype=int64)"
      ]
     },
     "execution_count": 54,
     "metadata": {},
     "output_type": "execute_result"
    }
   ],
   "source": [
    "cnf1"
   ]
  },
  {
   "cell_type": "code",
   "execution_count": 55,
   "id": "ac70959e",
   "metadata": {},
   "outputs": [
    {
     "data": {
      "text/plain": [
       "1.0"
      ]
     },
     "execution_count": 55,
     "metadata": {},
     "output_type": "execute_result"
    }
   ],
   "source": [
    "prec1"
   ]
  },
  {
   "cell_type": "code",
   "execution_count": 56,
   "id": "cd9e4d1a",
   "metadata": {},
   "outputs": [
    {
     "data": {
      "text/plain": [
       "'              precision    recall  f1-score   support\\n\\n           0       0.75      1.00      0.86         6\\n           1       1.00      0.86      0.92        14\\n\\n    accuracy                           0.90        20\\n   macro avg       0.88      0.93      0.89        20\\nweighted avg       0.93      0.90      0.90        20\\n'"
      ]
     },
     "execution_count": 56,
     "metadata": {},
     "output_type": "execute_result"
    }
   ],
   "source": [
    "clf1"
   ]
  },
  {
   "cell_type": "code",
   "execution_count": 57,
   "id": "30d4596a",
   "metadata": {},
   "outputs": [
    {
     "data": {
      "text/plain": [
       "<Axes: >"
      ]
     },
     "execution_count": 57,
     "metadata": {},
     "output_type": "execute_result"
    },
    {
     "data": {
      "image/png": "[encoded data removed]",
      "text/plain": [
       "<Figure size 640x480 with 2 Axes>"
      ]
     },
     "metadata": {},
     "output_type": "display_data"
    }
   ],
   "source": [
    "sns.heatmap(confusion_matrix(Y_test,pred1), annot= True)"
   ]
  },
  {
   "cell_type": "code",
   "execution_count": null,
   "id": "e3fb856a",
   "metadata": {},
   "outputs": [],
   "source": [
    "#### Save the best models for future predictions using these functions"
   ]
  }
 ],
 "metadata": {
  "kernelspec": {
   "display_name": "Python 3 (ipykernel)",
   "language": "python",
   "name": "python3"
  },
  "language_info": {
   "codemirror_mode": {
    "name": "ipython",
    "version": 3
   },
   "file_extension": ".py",
   "mimetype": "text/x-python",
   "name": "python",
   "nbconvert_exporter": "python",
   "pygments_lexer": "ipython3",
   "version": "3.11.5"
  }
 },
 "nbformat": 4,
 "nbformat_minor": 5
}
